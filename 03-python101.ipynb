{
 "cells": [
  {
   "cell_type": "markdown",
   "metadata": {},
   "source": [
    "# Python Basics\n",
    "\n",
    "## Python之禅"
   ]
  },
  {
   "cell_type": "markdown",
   "metadata": {},
   "source": [
    "Python 独有的缩进格式"
   ]
  },
  {
   "cell_type": "markdown",
   "metadata": {},
   "source": [
    "Python uses indentation to indicate a block of code."
   ]
  },
  {
   "cell_type": "markdown",
   "metadata": {},
   "source": [
    "## 注释语句\n",
    "\n",
    "只作为备注，不会被执行，但非常重要！"
   ]
  },
  {
   "cell_type": "code",
   "execution_count": 3,
   "metadata": {},
   "outputs": [
    {
     "data": {
      "text/plain": [
       "' Multiline strings can be written\\n    using three \"s, and are often used\\n    as documentation.\\n'"
      ]
     },
     "execution_count": 3,
     "metadata": {},
     "output_type": "execute_result"
    }
   ],
   "source": [
    "# Single line comments start with a number symbol.\n",
    "\n",
    "\"\"\" Multiline strings can be written\n",
    "    using three \"s, and are often used\n",
    "    as documentation.\n",
    "\"\"\""
   ]
  },
  {
   "cell_type": "markdown",
   "metadata": {},
   "source": [
    "## 打印函数 - print"
   ]
  },
  {
   "cell_type": "code",
   "execution_count": null,
   "metadata": {},
   "outputs": [],
   "source": [
    "# Python has a print function\n",
    "print(\"I'm Python. Nice to meet you!\")  # => I'm Python. Nice to meet you!\n",
    "\n",
    "# By default the print function also prints out a newline at the end.\n",
    "# Use the optional argument end to change the end string.\n",
    "print(\"Hello, World\", end=\"!\")  # => Hello, World!"
   ]
  },
  {
   "cell_type": "markdown",
   "metadata": {},
   "source": [
    "# Variables and operators (变量及运算符)"
   ]
  },
  {
   "cell_type": "markdown",
   "metadata": {},
   "source": [
    "## 运算符"
   ]
  },
  {
   "cell_type": "markdown",
   "metadata": {},
   "source": [
    "### Python Arithmetic Operators\n",
    "\n",
    "Arithmetic operators are used with numeric values to perform common mathematical operations:\n",
    "\n",
    "Operator  |\tName \t| Example \n",
    "----------|---------|--------\n",
    "\\+ |\tAddition \t| x + y \t\n",
    "\\- |\tSubtraction |\tx - y \t\n",
    "\\* |\tMultiplication |\tx * y \t\n",
    "\\/ |\tDivision |\tx / y \t\n",
    "\\% |\tModulus \t| x % y \t\n",
    "** | \tExponentiation |\tx ** y \t\n",
    "// |\tFloor division \t| x // y"
   ]
  },
  {
   "cell_type": "code",
   "execution_count": 1,
   "metadata": {},
   "outputs": [
    {
     "data": {
      "text/plain": [
       "2"
      ]
     },
     "execution_count": 1,
     "metadata": {},
     "output_type": "execute_result"
    }
   ],
   "source": [
    "# You have numbers\n",
    "3  # => 3\n",
    "# Math is what you would expect\n",
    "1 + 1   # => 2"
   ]
  },
  {
   "cell_type": "code",
   "execution_count": 2,
   "metadata": {},
   "outputs": [
    {
     "data": {
      "text/plain": [
       "7"
      ]
     },
     "execution_count": 2,
     "metadata": {},
     "output_type": "execute_result"
    }
   ],
   "source": [
    "8 - 1   # => 7"
   ]
  },
  {
   "cell_type": "code",
   "execution_count": 3,
   "metadata": {},
   "outputs": [
    {
     "data": {
      "text/plain": [
       "20"
      ]
     },
     "execution_count": 3,
     "metadata": {},
     "output_type": "execute_result"
    }
   ],
   "source": [
    "10 * 2  # => 20"
   ]
  },
  {
   "cell_type": "code",
   "execution_count": 4,
   "metadata": {},
   "outputs": [
    {
     "data": {
      "text/plain": [
       "7.0"
      ]
     },
     "execution_count": 4,
     "metadata": {},
     "output_type": "execute_result"
    }
   ],
   "source": [
    "35 / 5  # => 7.0"
   ]
  },
  {
   "cell_type": "code",
   "execution_count": 5,
   "metadata": {},
   "outputs": [
    {
     "data": {
      "text/plain": [
       "8"
      ]
     },
     "execution_count": 5,
     "metadata": {},
     "output_type": "execute_result"
    }
   ],
   "source": [
    "# Exponentiation (x**y, x to the yth power)\n",
    "2**3  # => 8"
   ]
  },
  {
   "cell_type": "code",
   "execution_count": 6,
   "metadata": {},
   "outputs": [
    {
     "data": {
      "text/plain": [
       "8"
      ]
     },
     "execution_count": 6,
     "metadata": {},
     "output_type": "execute_result"
    }
   ],
   "source": [
    "# Enforce precedence with parentheses\n",
    "1 + 3 * 2    # => 7\n",
    "(1 + 3) * 2  # => 8"
   ]
  },
  {
   "cell_type": "markdown",
   "metadata": {},
   "source": [
    "### Python Assignment Operators\n",
    "\n",
    "Assignment operators are used to assign values to variables:\n",
    "\n",
    "Operator |\tExample |\tSame As\n",
    "---------|----------|----------\n",
    "= \t| x = 5 \t| x = 5 \t\n",
    "+= \t| x += 3 \t| x = x + 3 \t\n",
    "-= \t| x -= 3 \t| x = x - 3 \t\n",
    "*= \t| x *= 3 \t| x = x * 3 \t\n",
    "\\/= \t| x /= 3 \t| x = x / 3 \t\n",
    "%= \t| x %= 3 \t| x = x % 3"
   ]
  },
  {
   "cell_type": "markdown",
   "metadata": {},
   "source": [
    "### Python Comparison Operators\n",
    "\n",
    "Comparison operators are used to compare two values:\n",
    "\n",
    "Operator |\tName \t| Example \n",
    "---------|----------|--------\n",
    "== |\tEqual |\tx == y \t\n",
    "!= |\tNot equal |\tx != y \t\n",
    "\\> |\tGreater than  |\tx > y \t\n",
    "\\< |\tLess than |\tx < y \t\n",
    "\\>= |\tGreater than or equal to |\tx >= y \t\n",
    "\\<= |\tLess than or equal to |\tx <= y"
   ]
  },
  {
   "cell_type": "markdown",
   "metadata": {},
   "source": [
    "Equality is =="
   ]
  },
  {
   "cell_type": "code",
   "execution_count": 7,
   "metadata": {},
   "outputs": [
    {
     "data": {
      "text/plain": [
       "True"
      ]
     },
     "execution_count": 7,
     "metadata": {},
     "output_type": "execute_result"
    }
   ],
   "source": [
    "1 == 1  # => True"
   ]
  },
  {
   "cell_type": "code",
   "execution_count": 8,
   "metadata": {},
   "outputs": [
    {
     "data": {
      "text/plain": [
       "False"
      ]
     },
     "execution_count": 8,
     "metadata": {},
     "output_type": "execute_result"
    }
   ],
   "source": [
    "2 == 1  # => False"
   ]
  },
  {
   "cell_type": "markdown",
   "metadata": {},
   "source": [
    "Inequality is !="
   ]
  },
  {
   "cell_type": "code",
   "execution_count": 9,
   "metadata": {},
   "outputs": [
    {
     "data": {
      "text/plain": [
       "False"
      ]
     },
     "execution_count": 9,
     "metadata": {},
     "output_type": "execute_result"
    }
   ],
   "source": [
    "1 != 1  # => False"
   ]
  },
  {
   "cell_type": "code",
   "execution_count": 10,
   "metadata": {},
   "outputs": [
    {
     "data": {
      "text/plain": [
       "True"
      ]
     },
     "execution_count": 10,
     "metadata": {},
     "output_type": "execute_result"
    }
   ],
   "source": [
    "2 != 1  # => True"
   ]
  },
  {
   "cell_type": "markdown",
   "metadata": {},
   "source": [
    "More comparisons"
   ]
  },
  {
   "cell_type": "code",
   "execution_count": 11,
   "metadata": {},
   "outputs": [
    {
     "data": {
      "text/plain": [
       "True"
      ]
     },
     "execution_count": 11,
     "metadata": {},
     "output_type": "execute_result"
    }
   ],
   "source": [
    "1 < 10  # => True"
   ]
  },
  {
   "cell_type": "code",
   "execution_count": 12,
   "metadata": {},
   "outputs": [
    {
     "data": {
      "text/plain": [
       "False"
      ]
     },
     "execution_count": 12,
     "metadata": {},
     "output_type": "execute_result"
    }
   ],
   "source": [
    "1 > 10  # => False"
   ]
  },
  {
   "cell_type": "code",
   "execution_count": 13,
   "metadata": {},
   "outputs": [
    {
     "data": {
      "text/plain": [
       "True"
      ]
     },
     "execution_count": 13,
     "metadata": {},
     "output_type": "execute_result"
    }
   ],
   "source": [
    "2 <= 2  # => True"
   ]
  },
  {
   "cell_type": "code",
   "execution_count": 14,
   "metadata": {},
   "outputs": [
    {
     "data": {
      "text/plain": [
       "True"
      ]
     },
     "execution_count": 14,
     "metadata": {},
     "output_type": "execute_result"
    }
   ],
   "source": [
    "2 >= 2  # => True"
   ]
  },
  {
   "cell_type": "markdown",
   "metadata": {},
   "source": [
    "check whether a value is in a range"
   ]
  },
  {
   "cell_type": "code",
   "execution_count": 15,
   "metadata": {},
   "outputs": [
    {
     "data": {
      "text/plain": [
       "True"
      ]
     },
     "execution_count": 15,
     "metadata": {},
     "output_type": "execute_result"
    }
   ],
   "source": [
    "1 < 2 and 2 < 3  # => True"
   ]
  },
  {
   "cell_type": "code",
   "execution_count": 16,
   "metadata": {},
   "outputs": [
    {
     "data": {
      "text/plain": [
       "False"
      ]
     },
     "execution_count": 16,
     "metadata": {},
     "output_type": "execute_result"
    }
   ],
   "source": [
    "2 < 3 and 3 < 2  # => False"
   ]
  },
  {
   "cell_type": "markdown",
   "metadata": {},
   "source": [
    "Chaining makes this look nicer"
   ]
  },
  {
   "cell_type": "code",
   "execution_count": 17,
   "metadata": {},
   "outputs": [
    {
     "data": {
      "text/plain": [
       "True"
      ]
     },
     "execution_count": 17,
     "metadata": {},
     "output_type": "execute_result"
    }
   ],
   "source": [
    "1 < 2 < 3  # => True"
   ]
  },
  {
   "cell_type": "code",
   "execution_count": 18,
   "metadata": {},
   "outputs": [
    {
     "data": {
      "text/plain": [
       "False"
      ]
     },
     "execution_count": 18,
     "metadata": {},
     "output_type": "execute_result"
    }
   ],
   "source": [
    "2 < 3 < 2  # => False"
   ]
  },
  {
   "cell_type": "code",
   "execution_count": 19,
   "metadata": {},
   "outputs": [
    {
     "name": "stdout",
     "output_type": "stream",
     "text": [
      "a is greater than b\n"
     ]
    }
   ],
   "source": [
    "a = 200\n",
    "b = 33\n",
    "if b > a:\n",
    "    print(\"b is greater than a\")\n",
    "elif a == b:\n",
    "    print(\"a and b are equal\")\n",
    "else:\n",
    "    print(\"a is greater than b\")"
   ]
  },
  {
   "cell_type": "markdown",
   "metadata": {},
   "source": [
    "### Python Logical Operators\n",
    "\n",
    "Logical operators are used to combine conditional statements:\n",
    "\n",
    "Operator  |\tDescription \t| Example \t\n",
    "----------|-----------------|------------\n",
    "and  |\tReturns True if both statements are true |\tx < 5 and  x < 10 \t\n",
    "or \t| Returns True if one of the statements is true |\tx < 5 or x < 4 \t\n",
    "not |\tReverse the result, returns False if the result is true  |\tnot(x < 5 and x < 10)"
   ]
  },
  {
   "cell_type": "markdown",
   "metadata": {},
   "source": [
    "## Python Identity Operators\n",
    "\n",
    "Identity operators are used to compare the objects, not if they are equal, but if they are actually the same object, with the same memory location:\n",
    "\n",
    "Operator  |\tDescription |\tExample\n",
    "----------|-------------|---------\n",
    "is  |\tReturns True if both variables are the same object |\tx is y \t\n",
    "is not |\tReturns True if both variables are not the same object |\tx is not y \t"
   ]
  },
  {
   "cell_type": "markdown",
   "metadata": {},
   "source": [
    "is vs ==\n",
    "\n",
    "**is** checks if two variables refer to the same object, but **==** checks\n",
    "if the objects pointed to have the same values."
   ]
  },
  {
   "cell_type": "code",
   "execution_count": 20,
   "metadata": {},
   "outputs": [],
   "source": [
    "a = [1, 2, 3, 4]  # Point a at a new list, [1, 2, 3, 4]\n",
    "b = a             # Point b at what a is pointing to"
   ]
  },
  {
   "cell_type": "code",
   "execution_count": 21,
   "metadata": {},
   "outputs": [
    {
     "data": {
      "text/plain": [
       "True"
      ]
     },
     "execution_count": 21,
     "metadata": {},
     "output_type": "execute_result"
    }
   ],
   "source": [
    "b is a            # => True, a and b refer to the same object"
   ]
  },
  {
   "cell_type": "code",
   "execution_count": 22,
   "metadata": {},
   "outputs": [
    {
     "data": {
      "text/plain": [
       "True"
      ]
     },
     "execution_count": 22,
     "metadata": {},
     "output_type": "execute_result"
    }
   ],
   "source": [
    "b == a            # => True, a's and b's objects are equal"
   ]
  },
  {
   "cell_type": "code",
   "execution_count": 23,
   "metadata": {},
   "outputs": [
    {
     "data": {
      "text/plain": [
       "False"
      ]
     },
     "execution_count": 23,
     "metadata": {},
     "output_type": "execute_result"
    }
   ],
   "source": [
    "b = [1, 2, 3, 4]  # Point b at a new list, [1, 2, 3, 4]\n",
    "b is a            # => False, a and b do not refer to the same object"
   ]
  },
  {
   "cell_type": "code",
   "execution_count": 24,
   "metadata": {},
   "outputs": [
    {
     "data": {
      "text/plain": [
       "True"
      ]
     },
     "execution_count": 24,
     "metadata": {},
     "output_type": "execute_result"
    }
   ],
   "source": [
    "b == a            # => True, a's and b's objects are equal"
   ]
  },
  {
   "cell_type": "markdown",
   "metadata": {},
   "source": [
    "### Python Membership Operators\n",
    "\n",
    "Membership operators are used to test if a sequence is presented in an object:\n",
    "\n",
    "Operator \t| Description |\tExample\n",
    "------------|-------------|---------\n",
    "in  |\tReturns True if a sequence with the specified value is present in the object |\tx in y \t\n",
    "not in |\tReturns True if a sequence with the specified value is not present in the object |\tx not in y"
   ]
  },
  {
   "cell_type": "code",
   "execution_count": 25,
   "metadata": {},
   "outputs": [
    {
     "data": {
      "text/plain": [
       "True"
      ]
     },
     "execution_count": 25,
     "metadata": {},
     "output_type": "execute_result"
    }
   ],
   "source": [
    "# Boolean values are primitives (Note: the capitalization)\n",
    "True   # => True\n",
    "False  # => False\n",
    "\n",
    "# negate with not\n",
    "not True   # => False\n",
    "not False  # => True\n",
    "\n",
    "# Boolean Operators\n",
    "# Note \"and\" and \"or\" are case-sensitive\n",
    "True and False  # => False\n",
    "False or True   # => True"
   ]
  },
  {
   "cell_type": "code",
   "execution_count": 26,
   "metadata": {},
   "outputs": [
    {
     "data": {
      "text/plain": [
       "-5"
      ]
     },
     "execution_count": 26,
     "metadata": {},
     "output_type": "execute_result"
    }
   ],
   "source": [
    "# True and False are actually 1 and 0 but with different keywords\n",
    "True + True # => 2\n",
    "True * 8    # => 8\n",
    "False - 5   # => -5"
   ]
  },
  {
   "cell_type": "code",
   "execution_count": 27,
   "metadata": {},
   "outputs": [
    {
     "data": {
      "text/plain": [
       "True"
      ]
     },
     "execution_count": 27,
     "metadata": {},
     "output_type": "execute_result"
    }
   ],
   "source": [
    "# Comparison operators look at the numerical value of True and False\n",
    "0 == False  # => True\n",
    "1 == True   # => True\n",
    "2 == True   # => False\n",
    "-5 != False # => True"
   ]
  },
  {
   "cell_type": "code",
   "execution_count": 28,
   "metadata": {},
   "outputs": [
    {
     "data": {
      "text/plain": [
       "-5"
      ]
     },
     "execution_count": 28,
     "metadata": {},
     "output_type": "execute_result"
    }
   ],
   "source": [
    "# Using boolean logical operators on ints casts them to booleans for evaluation, but their non-cast value is returned\n",
    "# Don't mix up with bool(ints) and bitwise and/or (&,|)\n",
    "bool(0)     # => False\n",
    "bool(4)     # => True\n",
    "bool(-6)    # => True\n",
    "0 and 2     # => 0\n",
    "-5 or 0     # => -5"
   ]
  },
  {
   "cell_type": "code",
   "execution_count": 29,
   "metadata": {},
   "outputs": [
    {
     "data": {
      "text/plain": [
       "-2.0"
      ]
     },
     "execution_count": 29,
     "metadata": {},
     "output_type": "execute_result"
    }
   ],
   "source": [
    "# Integer division rounds down for both positive and negative numbers.\n",
    "5 // 3       # => 1\n",
    "-5 // 3      # => -2\n",
    "5.0 // 3.0   # => 1.0 # works on floats too\n",
    "-5.0 // 3.0  # => -2.0"
   ]
  },
  {
   "cell_type": "code",
   "execution_count": 30,
   "metadata": {},
   "outputs": [
    {
     "data": {
      "text/plain": [
       "3.3333333333333335"
      ]
     },
     "execution_count": 30,
     "metadata": {},
     "output_type": "execute_result"
    }
   ],
   "source": [
    "# The result of division is always a float\n",
    "10.0 / 3  # => 3.3333333333333335"
   ]
  },
  {
   "cell_type": "code",
   "execution_count": 31,
   "metadata": {},
   "outputs": [
    {
     "data": {
      "text/plain": [
       "2"
      ]
     },
     "execution_count": 31,
     "metadata": {},
     "output_type": "execute_result"
    }
   ],
   "source": [
    "# Modulo operation\n",
    "7 % 3   # => 1\n",
    "# i % j have the same sign as j, unlike C\n",
    "-7 % 3  # => 2"
   ]
  },
  {
   "cell_type": "markdown",
   "metadata": {},
   "source": [
    "## 原生数据类型 （Primitive Datatypes）\n",
    "\n",
    "类型　| Python函数\n",
    "-----|------------\n",
    "Text Type: |\tstr\n",
    "Numeric Types: |\tint, float, complex\n",
    "Sequence Types: |\tlist, tuple, range\n",
    "Mapping Type: |\tdict\n",
    "Set Types: |\tset, frozenset\n",
    "Boolean Type: |\tbool\n",
    "Binary Types: |\tbytes, bytearray, memoryview"
   ]
  },
  {
   "cell_type": "markdown",
   "metadata": {},
   "source": [
    "用type()查看数据类型"
   ]
  },
  {
   "cell_type": "code",
   "execution_count": 40,
   "metadata": {},
   "outputs": [
    {
     "data": {
      "text/plain": [
       "int"
      ]
     },
     "execution_count": 40,
     "metadata": {},
     "output_type": "execute_result"
    }
   ],
   "source": [
    "var = 2\n",
    "type(var)"
   ]
  },
  {
   "cell_type": "code",
   "execution_count": 41,
   "metadata": {},
   "outputs": [
    {
     "name": "stdin",
     "output_type": "stream",
     "text": [
      "How old are you? 5\n"
     ]
    },
    {
     "name": "stdout",
     "output_type": "stream",
     "text": [
      "<class 'str'>\n",
      "<class 'int'>\n"
     ]
    }
   ],
   "source": [
    "ask = input(\"How old are you?\")\n",
    "print(type(ask))\n",
    "ask = int(ask) # convert to int\n",
    "print(type(ask))"
   ]
  },
  {
   "cell_type": "markdown",
   "metadata": {},
   "source": [
    "但使用前必须定义，否则会报错"
   ]
  },
  {
   "cell_type": "code",
   "execution_count": 42,
   "metadata": {},
   "outputs": [
    {
     "ename": "NameError",
     "evalue": "name 'some_unknown_var' is not defined",
     "output_type": "error",
     "traceback": [
      "\u001b[0;31m---------------------------------------------------------------------------\u001b[0m",
      "\u001b[0;31mNameError\u001b[0m                                 Traceback (most recent call last)",
      "\u001b[0;32m<ipython-input-42-2133f8816daf>\u001b[0m in \u001b[0;36m<module>\u001b[0;34m\u001b[0m\n\u001b[1;32m      1\u001b[0m \u001b[0;31m# Accessing a previously unassigned variable is an exception.\u001b[0m\u001b[0;34m\u001b[0m\u001b[0;34m\u001b[0m\u001b[0;34m\u001b[0m\u001b[0m\n\u001b[1;32m      2\u001b[0m \u001b[0;31m# See Control Flow to learn more about exception handling.\u001b[0m\u001b[0;34m\u001b[0m\u001b[0;34m\u001b[0m\u001b[0;34m\u001b[0m\u001b[0m\n\u001b[0;32m----> 3\u001b[0;31m \u001b[0msome_unknown_var\u001b[0m  \u001b[0;31m# Raises a NameError\u001b[0m\u001b[0;34m\u001b[0m\u001b[0;34m\u001b[0m\u001b[0m\n\u001b[0m",
      "\u001b[0;31mNameError\u001b[0m: name 'some_unknown_var' is not defined"
     ]
    }
   ],
   "source": [
    "# Accessing a previously unassigned variable is an exception.\n",
    "# See Control Flow to learn more about exception handling.\n",
    "some_unknown_var  # Raises a NameError"
   ]
  },
  {
   "cell_type": "markdown",
   "metadata": {},
   "source": [
    "终端输入数据，默认为字符串(string)"
   ]
  },
  {
   "cell_type": "code",
   "execution_count": 46,
   "metadata": {},
   "outputs": [
    {
     "name": "stdin",
     "output_type": "stream",
     "text": [
      "Enter some data:  afd\n"
     ]
    }
   ],
   "source": [
    "# Simple way to get input data from console\n",
    "input_string_var = input(\"Enter some data: \") # Returns the data as a string"
   ]
  },
  {
   "cell_type": "markdown",
   "metadata": {},
   "source": [
    "不需要申报数据类型，直接赋值，名字用小写字母和_，不能以数字开头。"
   ]
  },
  {
   "cell_type": "code",
   "execution_count": 47,
   "metadata": {},
   "outputs": [
    {
     "data": {
      "text/plain": [
       "5"
      ]
     },
     "execution_count": 47,
     "metadata": {},
     "output_type": "execute_result"
    }
   ],
   "source": [
    "# There are no declarations, only assignments.\n",
    "# Convention is to use lower_case_with_underscores\n",
    "some_var = 5\n",
    "some_var  # => 5"
   ]
  },
  {
   "cell_type": "code",
   "execution_count": 48,
   "metadata": {},
   "outputs": [
    {
     "ename": "SyntaxError",
     "evalue": "invalid syntax (<ipython-input-48-61346754f512>, line 2)",
     "output_type": "error",
     "traceback": [
      "\u001b[0;36m  File \u001b[0;32m\"<ipython-input-48-61346754f512>\"\u001b[0;36m, line \u001b[0;32m2\u001b[0m\n\u001b[0;31m    2var = 3\u001b[0m\n\u001b[0m     ^\u001b[0m\n\u001b[0;31mSyntaxError\u001b[0m\u001b[0;31m:\u001b[0m invalid syntax\n"
     ]
    }
   ],
   "source": [
    "# python will complain\n",
    "2var = 3\n",
    "var-2 = 3"
   ]
  },
  {
   "cell_type": "code",
   "execution_count": 49,
   "metadata": {},
   "outputs": [],
   "source": [
    "x = \"Hello World\" #\tstr \t\n",
    "x = 20 \t# int \t\n",
    "x = 20.5 \t# float \t\n",
    "x = 1j \t# complex \t\n",
    "x = [\"apple\", \"banana\", \"cherry\"] # list \t\n",
    "x = (\"apple\", \"banana\", \"cherry\") #\ttuple \t\n",
    "x = range(6) #\trange \t\n",
    "x = {\"name\" : \"John\", \"age\" : 36} #\tdict \t\n",
    "x = {\"apple\", \"banana\", \"cherry\"} #\tset \t\n",
    "x = frozenset({\"apple\", \"banana\", \"cherry\"}) # frozenset \t\n",
    "x = True # bool \t\n",
    "x = b\"Hello\" \t# bytes \t\n",
    "x = bytearray(5) \t# bytearray \t\n",
    "x = memoryview(bytes(5))"
   ]
  },
  {
   "cell_type": "markdown",
   "metadata": {},
   "source": [
    "可以申明数据类型"
   ]
  },
  {
   "cell_type": "code",
   "execution_count": 51,
   "metadata": {},
   "outputs": [],
   "source": [
    "x = str(\"Hello World\") \t \t\n",
    "x = int(20) \t\n",
    "x = float(20.5)  \t\n",
    "x = complex(1j)  \t\n",
    "x = list((\"apple\", \"banana\", \"cherry\")) \t \t\n",
    "x = tuple((\"apple\", \"banana\", \"cherry\")) \t \t\n",
    "x = range(6) \t\n",
    "x = dict(name=\"John\", age=36) \t\n",
    "x = set((\"apple\", \"banana\", \"cherry\")) \t \t\n",
    "x = frozenset((\"apple\", \"banana\", \"cherry\")) \t \t\n",
    "x = bool(5) \t\n",
    "x = bytes(5) \t\t\n",
    "x = bytearray(5)"
   ]
  },
  {
   "cell_type": "markdown",
   "metadata": {},
   "source": [
    "## String (字符串)　"
   ]
  },
  {
   "cell_type": "code",
   "execution_count": 52,
   "metadata": {},
   "outputs": [
    {
     "name": "stderr",
     "output_type": "stream",
     "text": [
      "<>:27: SyntaxWarning: \"is\" with a literal. Did you mean \"==\"?\n",
      "<>:27: SyntaxWarning: \"is\" with a literal. Did you mean \"==\"?\n",
      "<ipython-input-52-b44bbd7c57aa>:27: SyntaxWarning: \"is\" with a literal. Did you mean \"==\"?\n",
      "  \"etc\" is None  # => False\n"
     ]
    },
    {
     "data": {
      "text/plain": [
       "False"
      ]
     },
     "execution_count": 52,
     "metadata": {},
     "output_type": "execute_result"
    }
   ],
   "source": [
    "# Strings are created with \" or '\n",
    "\"This is a string.\"\n",
    "'This is also a string.'\n",
    "\n",
    "# Strings can be added too\n",
    "\"Hello \" + \"world!\"  # => \"Hello world!\"\n",
    "# String literals (but not variables) can be concatenated without using '+'\n",
    "\"Hello \" \"world!\"    # => \"Hello world!\"\n",
    "\n",
    "# A string can be treated like a list of characters\n",
    "\"Hello world!\"[0]  # => 'H'\n",
    "\n",
    "# You can find the length of a string\n",
    "len(\"This is a string\")  # => 16\n",
    "\n",
    "# You can also format using f-strings or formatted string literals (in Python 3.6+)\n",
    "name = \"Reiko\"\n",
    "f\"She said her name is {name}.\" # => \"She said her name is Reiko\"\n",
    "# You can basically put any Python expression inside the braces and it will be output in the string.\n",
    "f\"{name} is {len(name)} characters long.\" # => \"Reiko is 5 characters long.\"\n",
    "\n",
    "# None is an object\n",
    "None  # => None\n",
    "\n",
    "# Don't use the equality \"==\" symbol to compare objects to None\n",
    "# Use \"is\" instead. This checks for equality of object identity.\n",
    "\"etc\" is None  # => False\n",
    "None is None   # => True\n",
    "\n",
    "# None, 0, and empty strings/lists/dicts/tuples all evaluate to False.\n",
    "# All other values are True\n",
    "bool(0)   # => False\n",
    "bool(\"\")  # => False\n",
    "bool([])  # => False\n",
    "bool({})  # => False\n",
    "bool(())  # => False"
   ]
  },
  {
   "cell_type": "markdown",
   "metadata": {},
   "source": [
    "## Variables and Collections"
   ]
  },
  {
   "cell_type": "markdown",
   "metadata": {},
   "source": [
    "Python Collections (Arrays)\n",
    "\n",
    "There are four collection data types in the Python programming language:\n",
    "\n",
    "    List is a collection which is ordered and changeable. Allows duplicate members.\n",
    "    Tuple is a collection which is ordered and unchangeable. Allows duplicate members.\n",
    "    Set is a collection which is unordered and unindexed. No duplicate members.\n",
    "    Dictionary is a collection which is unordered, changeable and indexed. No duplicate members.\n",
    "\n"
   ]
  },
  {
   "cell_type": "code",
   "execution_count": 54,
   "metadata": {},
   "outputs": [
    {
     "ename": "IndexError",
     "evalue": "list index out of range",
     "output_type": "error",
     "traceback": [
      "\u001b[0;31m---------------------------------------------------------------------------\u001b[0m",
      "\u001b[0;31mIndexError\u001b[0m                                Traceback (most recent call last)",
      "\u001b[0;32m<ipython-input-54-6406556b5e37>\u001b[0m in \u001b[0;36m<module>\u001b[0;34m\u001b[0m\n\u001b[1;32m     20\u001b[0m \u001b[0;34m\u001b[0m\u001b[0m\n\u001b[1;32m     21\u001b[0m \u001b[0;31m# Looking out of bounds is an IndexError\u001b[0m\u001b[0;34m\u001b[0m\u001b[0;34m\u001b[0m\u001b[0;34m\u001b[0m\u001b[0m\n\u001b[0;32m---> 22\u001b[0;31m \u001b[0mli\u001b[0m\u001b[0;34m[\u001b[0m\u001b[0;36m4\u001b[0m\u001b[0;34m]\u001b[0m  \u001b[0;31m# Raises an IndexError\u001b[0m\u001b[0;34m\u001b[0m\u001b[0;34m\u001b[0m\u001b[0m\n\u001b[0m\u001b[1;32m     23\u001b[0m \u001b[0;34m\u001b[0m\u001b[0m\n\u001b[1;32m     24\u001b[0m \u001b[0;31m# You can look at ranges with slice syntax.\u001b[0m\u001b[0;34m\u001b[0m\u001b[0;34m\u001b[0m\u001b[0;34m\u001b[0m\u001b[0m\n",
      "\u001b[0;31mIndexError\u001b[0m: list index out of range"
     ]
    }
   ],
   "source": [
    "# Lists store sequences\n",
    "li = []\n",
    "# You can start with a prefilled list\n",
    "other_li = [4, 5, 6]\n",
    "\n",
    "# Add stuff to the end of a list with append\n",
    "li.append(1)    # li is now [1]\n",
    "li.append(2)    # li is now [1, 2]\n",
    "li.append(4)    # li is now [1, 2, 4]\n",
    "li.append(3)    # li is now [1, 2, 4, 3]\n",
    "# Remove from the end with pop\n",
    "li.pop()        # => 3 and li is now [1, 2, 4]\n",
    "# Let's put it back\n",
    "li.append(3)    # li is now [1, 2, 4, 3] again.\n",
    "\n",
    "# Access a list like you would any array\n",
    "li[0]   # => 1\n",
    "# Look at the last element\n",
    "li[-1]  # => 3\n",
    "\n",
    "# Looking out of bounds is an IndexError\n",
    "li[4]  # Raises an IndexError\n",
    "\n",
    "# You can look at ranges with slice syntax.\n",
    "# The start index is included, the end index is not\n",
    "# (It's a closed/open range for you mathy types.)\n",
    "li[1:3]   # Return list from index 1 to 3 => [2, 4]\n",
    "li[2:]    # Return list starting from index 2 => [4, 3]\n",
    "li[:3]    # Return list from beginning until index 3  => [1, 2, 4]\n",
    "li[::2]   # Return list selecting every second entry => [1, 4]\n",
    "li[::-1]  # Return list in reverse order => [3, 4, 2, 1]\n",
    "# Use any combination of these to make advanced slices\n",
    "# li[start:end:step]\n",
    "\n",
    "# Make a one layer deep copy using slices\n",
    "li2 = li[:]  # => li2 = [1, 2, 4, 3] but (li2 is li) will result in false.\n",
    "\n",
    "# Remove arbitrary elements from a list with \"del\"\n",
    "del li[2]  # li is now [1, 2, 3]\n",
    "\n",
    "# Remove first occurrence of a value\n",
    "li.remove(2)  # li is now [1, 3]\n",
    "li.remove(2)  # Raises a ValueError as 2 is not in the list\n",
    "\n",
    "# Insert an element at a specific index\n",
    "li.insert(1, 2)  # li is now [1, 2, 3] again\n",
    "\n",
    "# Get the index of the first item found matching the argument\n",
    "li.index(2)  # => 1\n",
    "li.index(4)  # Raises a ValueError as 4 is not in the list\n",
    "\n",
    "# You can add lists\n",
    "# Note: values for li and for other_li are not modified.\n",
    "li + other_li  # => [1, 2, 3, 4, 5, 6]\n",
    "\n",
    "# Concatenate lists with \"extend()\"\n",
    "li.extend(other_li)  # Now li is [1, 2, 3, 4, 5, 6]\n",
    "\n",
    "# Check for existence in a list with \"in\"\n",
    "1 in li  # => True\n",
    "\n",
    "# Examine the length with \"len()\"\n",
    "len(li)  # => 6"
   ]
  },
  {
   "cell_type": "markdown",
   "metadata": {},
   "source": [
    "元组 tuple() \n",
    "\n",
    "tuple()函数不是改变值的类型"
   ]
  },
  {
   "cell_type": "code",
   "execution_count": 55,
   "metadata": {},
   "outputs": [
    {
     "ename": "TypeError",
     "evalue": "'tuple' object does not support item assignment",
     "output_type": "error",
     "traceback": [
      "\u001b[0;31m---------------------------------------------------------------------------\u001b[0m",
      "\u001b[0;31mTypeError\u001b[0m                                 Traceback (most recent call last)",
      "\u001b[0;32m<ipython-input-55-9e1b668e1a0e>\u001b[0m in \u001b[0;36m<module>\u001b[0;34m\u001b[0m\n\u001b[1;32m      2\u001b[0m \u001b[0mtup\u001b[0m \u001b[0;34m=\u001b[0m \u001b[0;34m(\u001b[0m\u001b[0;36m1\u001b[0m\u001b[0;34m,\u001b[0m \u001b[0;36m2\u001b[0m\u001b[0;34m,\u001b[0m \u001b[0;36m3\u001b[0m\u001b[0;34m)\u001b[0m\u001b[0;34m\u001b[0m\u001b[0;34m\u001b[0m\u001b[0m\n\u001b[1;32m      3\u001b[0m \u001b[0mtup\u001b[0m\u001b[0;34m[\u001b[0m\u001b[0;36m0\u001b[0m\u001b[0;34m]\u001b[0m      \u001b[0;31m# => 1\u001b[0m\u001b[0;34m\u001b[0m\u001b[0;34m\u001b[0m\u001b[0m\n\u001b[0;32m----> 4\u001b[0;31m \u001b[0mtup\u001b[0m\u001b[0;34m[\u001b[0m\u001b[0;36m0\u001b[0m\u001b[0;34m]\u001b[0m \u001b[0;34m=\u001b[0m \u001b[0;36m3\u001b[0m  \u001b[0;31m# Raises a TypeError\u001b[0m\u001b[0;34m\u001b[0m\u001b[0;34m\u001b[0m\u001b[0m\n\u001b[0m\u001b[1;32m      5\u001b[0m \u001b[0;34m\u001b[0m\u001b[0m\n\u001b[1;32m      6\u001b[0m \u001b[0;31m# Note that a tuple of length one has to have a comma after the last element but\u001b[0m\u001b[0;34m\u001b[0m\u001b[0;34m\u001b[0m\u001b[0;34m\u001b[0m\u001b[0m\n",
      "\u001b[0;31mTypeError\u001b[0m: 'tuple' object does not support item assignment"
     ]
    }
   ],
   "source": [
    "# Tuples are like lists but are immutable.\n",
    "tup = (1, 2, 3)\n",
    "tup[0]      # => 1\n",
    "tup[0] = 3  # Raises a TypeError\n",
    "\n",
    "# Note that a tuple of length one has to have a comma after the last element but\n",
    "# tuples of other lengths, even zero, do not.\n",
    "type((1))   # => <class 'int'>\n",
    "type((1,))  # => <class 'tuple'>\n",
    "type(())    # => <class 'tuple'>\n",
    "\n",
    "# You can do most of the list operations on tuples too\n",
    "len(tup)         # => 3\n",
    "tup + (4, 5, 6)  # => (1, 2, 3, 4, 5, 6)\n",
    "tup[:2]          # => (1, 2)\n",
    "2 in tup         # => True\n",
    "\n",
    "# You can unpack tuples (or lists) into variables\n",
    "a, b, c = (1, 2, 3)  # a is now 1, b is now 2 and c is now 3\n",
    "# You can also do extended unpacking\n",
    "a, *b, c = (1, 2, 3, 4)  # a is now 1, b is now [2, 3] and c is now 4\n",
    "# Tuples are created by default if you leave out the parentheses\n",
    "d, e, f = 4, 5, 6  # tuple 4, 5, 6 is unpacked into variables d, e and f\n",
    "# respectively such that d = 4, e = 5 and f = 6\n",
    "# Now look how easy it is to swap two values\n",
    "e, d = d, e  # d is now 5 and e is now 4"
   ]
  },
  {
   "cell_type": "markdown",
   "metadata": {},
   "source": [
    "字典dict():\n",
    "\n",
    "dict()的每个键值 key=>value 对用冒号 : 分割，每个键值对之间用逗号 , 分割，整个字典包括在花括号 {} 中"
   ]
  },
  {
   "cell_type": "code",
   "execution_count": 56,
   "metadata": {},
   "outputs": [],
   "source": [
    "# Dictionaries store mappings from keys to values\n",
    "empty_dict = {}\n",
    "# Here is a prefilled dictionary\n",
    "filled_dict = {\"one\": 1, \"two\": 2, \"three\": 3}"
   ]
  },
  {
   "cell_type": "code",
   "execution_count": 57,
   "metadata": {},
   "outputs": [
    {
     "ename": "TypeError",
     "evalue": "unhashable type: 'list'",
     "output_type": "error",
     "traceback": [
      "\u001b[0;31m---------------------------------------------------------------------------\u001b[0m",
      "\u001b[0;31mTypeError\u001b[0m                                 Traceback (most recent call last)",
      "\u001b[0;32m<ipython-input-57-e54b196b96c6>\u001b[0m in \u001b[0;36m<module>\u001b[0;34m\u001b[0m\n\u001b[1;32m      2\u001b[0m \u001b[0;31m# the key can be converted to a constant hash value for quick look-ups.\u001b[0m\u001b[0;34m\u001b[0m\u001b[0;34m\u001b[0m\u001b[0;34m\u001b[0m\u001b[0m\n\u001b[1;32m      3\u001b[0m \u001b[0;31m# Immutable types include ints, floats, strings, tuples.\u001b[0m\u001b[0;34m\u001b[0m\u001b[0;34m\u001b[0m\u001b[0;34m\u001b[0m\u001b[0m\n\u001b[0;32m----> 4\u001b[0;31m \u001b[0minvalid_dict\u001b[0m \u001b[0;34m=\u001b[0m \u001b[0;34m{\u001b[0m\u001b[0;34m[\u001b[0m\u001b[0;36m1\u001b[0m\u001b[0;34m,\u001b[0m\u001b[0;36m2\u001b[0m\u001b[0;34m,\u001b[0m\u001b[0;36m3\u001b[0m\u001b[0;34m]\u001b[0m\u001b[0;34m:\u001b[0m \u001b[0;34m\"123\"\u001b[0m\u001b[0;34m}\u001b[0m  \u001b[0;31m# => Raises a TypeError: unhashable type: 'list'\u001b[0m\u001b[0;34m\u001b[0m\u001b[0;34m\u001b[0m\u001b[0m\n\u001b[0m\u001b[1;32m      5\u001b[0m \u001b[0mvalid_dict\u001b[0m \u001b[0;34m=\u001b[0m \u001b[0;34m{\u001b[0m\u001b[0;34m(\u001b[0m\u001b[0;36m1\u001b[0m\u001b[0;34m,\u001b[0m\u001b[0;36m2\u001b[0m\u001b[0;34m,\u001b[0m\u001b[0;36m3\u001b[0m\u001b[0;34m)\u001b[0m\u001b[0;34m:\u001b[0m\u001b[0;34m[\u001b[0m\u001b[0;36m1\u001b[0m\u001b[0;34m,\u001b[0m\u001b[0;36m2\u001b[0m\u001b[0;34m,\u001b[0m\u001b[0;36m3\u001b[0m\u001b[0;34m]\u001b[0m\u001b[0;34m}\u001b[0m   \u001b[0;31m# Values can be of any type, however.\u001b[0m\u001b[0;34m\u001b[0m\u001b[0;34m\u001b[0m\u001b[0m\n",
      "\u001b[0;31mTypeError\u001b[0m: unhashable type: 'list'"
     ]
    }
   ],
   "source": [
    "# Note keys for dictionaries have to be immutable types. This is to ensure that\n",
    "# the key can be converted to a constant hash value for quick look-ups.\n",
    "# Immutable types include ints, floats, strings, tuples.\n",
    "invalid_dict = {[1,2,3]: \"123\"}  # => Raises a TypeError: unhashable type: 'list'\n",
    "valid_dict = {(1,2,3):[1,2,3]}   # Values can be of any type, however."
   ]
  },
  {
   "cell_type": "markdown",
   "metadata": {},
   "source": [
    "Key and Values:"
   ]
  },
  {
   "cell_type": "code",
   "execution_count": 58,
   "metadata": {},
   "outputs": [
    {
     "data": {
      "text/plain": [
       "1"
      ]
     },
     "execution_count": 58,
     "metadata": {},
     "output_type": "execute_result"
    }
   ],
   "source": [
    "# Look up values with []\n",
    "filled_dict[\"one\"]  # => 1"
   ]
  },
  {
   "cell_type": "code",
   "execution_count": 59,
   "metadata": {},
   "outputs": [
    {
     "data": {
      "text/plain": [
       "['one', 'two', 'three']"
      ]
     },
     "execution_count": 59,
     "metadata": {},
     "output_type": "execute_result"
    }
   ],
   "source": [
    "# Get all keys as an iterable with \"keys()\". We need to wrap the call in list()\n",
    "# to turn it into a list. We'll talk about those later.  Note - for Python\n",
    "# versions <3.7, dictionary key ordering is not guaranteed. Your results might\n",
    "# not match the example below exactly. However, as of Python 3.7, dictionary\n",
    "# items maintain the order at which they are inserted into the dictionary.\n",
    "list(filled_dict.keys())  # => [\"three\", \"two\", \"one\"] in Python <3.7\n",
    "list(filled_dict.keys())  # => [\"one\", \"two\", \"three\"] in Python 3.7+"
   ]
  },
  {
   "cell_type": "code",
   "execution_count": 60,
   "metadata": {},
   "outputs": [
    {
     "data": {
      "text/plain": [
       "[1, 2, 3]"
      ]
     },
     "execution_count": 60,
     "metadata": {},
     "output_type": "execute_result"
    }
   ],
   "source": [
    "# Get all values as an iterable with \"values()\". Once again we need to wrap it\n",
    "# in list() to get it out of the iterable. Note - Same as above regarding key\n",
    "# ordering.\n",
    "list(filled_dict.values())  # => [3, 2, 1]  in Python <3.7\n",
    "list(filled_dict.values())  # => [1, 2, 3] in Python 3.7+"
   ]
  },
  {
   "cell_type": "code",
   "execution_count": 61,
   "metadata": {},
   "outputs": [
    {
     "data": {
      "text/plain": [
       "False"
      ]
     },
     "execution_count": 61,
     "metadata": {},
     "output_type": "execute_result"
    }
   ],
   "source": [
    "# Check for existence of keys in a dictionary with \"in\"\n",
    "\"one\" in filled_dict  # => True\n",
    "1 in filled_dict      # => False"
   ]
  },
  {
   "cell_type": "code",
   "execution_count": 62,
   "metadata": {},
   "outputs": [
    {
     "ename": "KeyError",
     "evalue": "'four'",
     "output_type": "error",
     "traceback": [
      "\u001b[0;31m---------------------------------------------------------------------------\u001b[0m",
      "\u001b[0;31mKeyError\u001b[0m                                  Traceback (most recent call last)",
      "\u001b[0;32m<ipython-input-62-1f9e97a788f6>\u001b[0m in \u001b[0;36m<module>\u001b[0;34m\u001b[0m\n\u001b[1;32m      1\u001b[0m \u001b[0;31m# Looking up a non-existing key is a KeyError\u001b[0m\u001b[0;34m\u001b[0m\u001b[0;34m\u001b[0m\u001b[0;34m\u001b[0m\u001b[0m\n\u001b[0;32m----> 2\u001b[0;31m \u001b[0mfilled_dict\u001b[0m\u001b[0;34m[\u001b[0m\u001b[0;34m\"four\"\u001b[0m\u001b[0;34m]\u001b[0m  \u001b[0;31m# KeyError\u001b[0m\u001b[0;34m\u001b[0m\u001b[0;34m\u001b[0m\u001b[0m\n\u001b[0m",
      "\u001b[0;31mKeyError\u001b[0m: 'four'"
     ]
    }
   ],
   "source": [
    "# Looking up a non-existing key is a KeyError\n",
    "filled_dict[\"four\"]  # KeyError"
   ]
  },
  {
   "cell_type": "code",
   "execution_count": 63,
   "metadata": {},
   "outputs": [
    {
     "data": {
      "text/plain": [
       "4"
      ]
     },
     "execution_count": 63,
     "metadata": {},
     "output_type": "execute_result"
    }
   ],
   "source": [
    "# Use \"get()\" method to avoid the KeyError\n",
    "filled_dict.get(\"one\")      # => 1\n",
    "filled_dict.get(\"four\")     # => None\n",
    "# The get method supports a default argument when the value is missing\n",
    "filled_dict.get(\"one\", 4)   # => 1\n",
    "filled_dict.get(\"four\", 4)  # => 4"
   ]
  },
  {
   "cell_type": "code",
   "execution_count": 64,
   "metadata": {},
   "outputs": [
    {
     "data": {
      "text/plain": [
       "5"
      ]
     },
     "execution_count": 64,
     "metadata": {},
     "output_type": "execute_result"
    }
   ],
   "source": [
    "# \"setdefault()\" inserts into a dictionary only if the given key isn't present\n",
    "filled_dict.setdefault(\"five\", 5)  # filled_dict[\"five\"] is set to 5\n",
    "filled_dict.setdefault(\"five\", 6)  # filled_dict[\"five\"] is still 5"
   ]
  },
  {
   "cell_type": "code",
   "execution_count": 65,
   "metadata": {},
   "outputs": [],
   "source": [
    "# Adding to a dictionary\n",
    "filled_dict.update({\"four\":4})  # => {\"one\": 1, \"two\": 2, \"three\": 3, \"four\": 4}\n",
    "filled_dict[\"four\"] = 4         # another way to add to dict"
   ]
  },
  {
   "cell_type": "code",
   "execution_count": 66,
   "metadata": {},
   "outputs": [
    {
     "data": {
      "text/plain": [
       "{'a': 2}"
      ]
     },
     "execution_count": 66,
     "metadata": {},
     "output_type": "execute_result"
    }
   ],
   "source": [
    "# Remove keys from a dictionary with del\n",
    "del filled_dict[\"one\"]  # Removes the key \"one\" from filled dict\n",
    "\n",
    "# From Python 3.5 you can also use the additional unpacking options\n",
    "{'a': 1, **{'b': 2}}  # => {'a': 1, 'b': 2}\n",
    "{'a': 1, **{'a': 2}}  # => {'a': 2}"
   ]
  },
  {
   "cell_type": "markdown",
   "metadata": {},
   "source": [
    "### set"
   ]
  },
  {
   "cell_type": "code",
   "execution_count": 67,
   "metadata": {},
   "outputs": [
    {
     "ename": "TypeError",
     "evalue": "unhashable type: 'list'",
     "output_type": "error",
     "traceback": [
      "\u001b[0;31m---------------------------------------------------------------------------\u001b[0m",
      "\u001b[0;31mTypeError\u001b[0m                                 Traceback (most recent call last)",
      "\u001b[0;32m<ipython-input-67-555752882f30>\u001b[0m in \u001b[0;36m<module>\u001b[0;34m\u001b[0m\n\u001b[1;32m      5\u001b[0m \u001b[0;34m\u001b[0m\u001b[0m\n\u001b[1;32m      6\u001b[0m \u001b[0;31m# Similar to keys of a dictionary, elements of a set have to be immutable.\u001b[0m\u001b[0;34m\u001b[0m\u001b[0;34m\u001b[0m\u001b[0;34m\u001b[0m\u001b[0m\n\u001b[0;32m----> 7\u001b[0;31m \u001b[0minvalid_set\u001b[0m \u001b[0;34m=\u001b[0m \u001b[0;34m{\u001b[0m\u001b[0;34m[\u001b[0m\u001b[0;36m1\u001b[0m\u001b[0;34m]\u001b[0m\u001b[0;34m,\u001b[0m \u001b[0;36m1\u001b[0m\u001b[0;34m}\u001b[0m  \u001b[0;31m# => Raises a TypeError: unhashable type: 'list'\u001b[0m\u001b[0;34m\u001b[0m\u001b[0;34m\u001b[0m\u001b[0m\n\u001b[0m\u001b[1;32m      8\u001b[0m \u001b[0mvalid_set\u001b[0m \u001b[0;34m=\u001b[0m \u001b[0;34m{\u001b[0m\u001b[0;34m(\u001b[0m\u001b[0;36m1\u001b[0m\u001b[0;34m,\u001b[0m\u001b[0;34m)\u001b[0m\u001b[0;34m,\u001b[0m \u001b[0;36m1\u001b[0m\u001b[0;34m}\u001b[0m\u001b[0;34m\u001b[0m\u001b[0;34m\u001b[0m\u001b[0m\n\u001b[1;32m      9\u001b[0m \u001b[0;34m\u001b[0m\u001b[0m\n",
      "\u001b[0;31mTypeError\u001b[0m: unhashable type: 'list'"
     ]
    }
   ],
   "source": [
    "# Sets store ... well sets\n",
    "empty_set = set()\n",
    "# Initialize a set with a bunch of values. Yeah, it looks a bit like a dict. Sorry.\n",
    "some_set = {1, 1, 2, 2, 3, 4}  # some_set is now {1, 2, 3, 4}\n",
    "\n",
    "# Similar to keys of a dictionary, elements of a set have to be immutable.\n",
    "invalid_set = {[1], 1}  # => Raises a TypeError: unhashable type: 'list'\n",
    "valid_set = {(1,), 1}\n",
    "\n",
    "# Add one more item to the set\n",
    "filled_set = some_set\n",
    "filled_set.add(5)  # filled_set is now {1, 2, 3, 4, 5}\n",
    "# Sets do not have duplicate elements\n",
    "filled_set.add(5)  # it remains as before {1, 2, 3, 4, 5}\n",
    "\n",
    "# Do set intersection with &\n",
    "other_set = {3, 4, 5, 6}\n",
    "filled_set & other_set  # => {3, 4, 5}\n",
    "\n",
    "# Do set union with |\n",
    "filled_set | other_set  # => {1, 2, 3, 4, 5, 6}\n",
    "\n",
    "# Do set difference with -\n",
    "{1, 2, 3, 4} - {2, 3, 5}  # => {1, 4}\n",
    "\n",
    "# Do set symmetric difference with ^\n",
    "{1, 2, 3, 4} ^ {2, 3, 5}  # => {1, 4, 5}\n",
    "\n",
    "# Check if set on the left is a superset of set on the right\n",
    "{1, 2} >= {1, 2, 3} # => False\n",
    "\n",
    "# Check if set on the left is a subset of set on the right\n",
    "{1, 2} <= {1, 2, 3} # => True\n",
    "\n",
    "# Check for existence in a set with in\n",
    "2 in filled_set   # => True\n",
    "10 in filled_set  # => False\n",
    "\n",
    "# Make a one layer deep copy\n",
    "filled_set = some_set.copy()  # filled_set is {1, 2, 3, 4, 5}\n",
    "filled_set is some_set        # => False"
   ]
  },
  {
   "cell_type": "markdown",
   "metadata": {},
   "source": [
    "# Control Flow and Iterables"
   ]
  },
  {
   "cell_type": "markdown",
   "metadata": {},
   "source": [
    "## If and Conditions\n",
    "\n",
    "**注意：**\n",
    "if <condtion>: elif <condition>: else: 之后的冒号(:)和缩进(Indentation)\n",
    "    \n",
    "![](images/ifelse.png)    "
   ]
  },
  {
   "cell_type": "markdown",
   "metadata": {},
   "source": [
    "if ..."
   ]
  },
  {
   "cell_type": "code",
   "execution_count": 68,
   "metadata": {},
   "outputs": [
    {
     "name": "stdout",
     "output_type": "stream",
     "text": [
      "b is greater than a\n"
     ]
    }
   ],
   "source": [
    "a = 33\n",
    "b = 200\n",
    "if b > a:\n",
    "    print(\"b is greater than a\") # you will get an error"
   ]
  },
  {
   "cell_type": "markdown",
   "metadata": {},
   "source": [
    "if ... elif ... else ..."
   ]
  },
  {
   "cell_type": "code",
   "execution_count": 69,
   "metadata": {},
   "outputs": [
    {
     "name": "stdout",
     "output_type": "stream",
     "text": [
      "some_var is smaller than 10.\n"
     ]
    }
   ],
   "source": [
    "# Let's just make a variable\n",
    "some_var = 5\n",
    "\n",
    "# Here is an if statement. Indentation is significant in Python!\n",
    "# Convention is to use four spaces, not tabs.\n",
    "# This prints \"some_var is smaller than 10\"\n",
    "if some_var > 10:\n",
    "    print(\"some_var is totally bigger than 10.\")\n",
    "elif some_var < 10:    # This elif clause is optional.\n",
    "    print(\"some_var is smaller than 10.\")\n",
    "else:                  # This is optional too.\n",
    "    print(\"some_var is indeed 10.\")"
   ]
  },
  {
   "cell_type": "markdown",
   "metadata": {},
   "source": [
    "if ... else ... 或　if ... elif ..."
   ]
  },
  {
   "cell_type": "code",
   "execution_count": 70,
   "metadata": {},
   "outputs": [
    {
     "name": "stdout",
     "output_type": "stream",
     "text": [
      "b is not greater than a\n"
     ]
    }
   ],
   "source": [
    "a = 200\n",
    "b = 33\n",
    "if b > a:\n",
    "  print(\"b is greater than a\")\n",
    "else:\n",
    "  print(\"b is not greater than a\")"
   ]
  },
  {
   "cell_type": "markdown",
   "metadata": {},
   "source": [
    "if语句可以直接用在表达中"
   ]
  },
  {
   "cell_type": "code",
   "execution_count": 71,
   "metadata": {},
   "outputs": [
    {
     "data": {
      "text/plain": [
       "'nay!'"
      ]
     },
     "execution_count": 71,
     "metadata": {},
     "output_type": "execute_result"
    }
   ],
   "source": [
    "# if can be used as an expression\n",
    "# Equivalent of C's '?:' ternary operator\n",
    "\"yay!\" if 0 > 1 else \"nay!\"  # => \"nay!\""
   ]
  },
  {
   "cell_type": "markdown",
   "metadata": {},
   "source": [
    "## For loop\n",
    "A for loop is used for iterating over a sequence (that is either a list, a tuple, a dictionary, a set, or a string).\n",
    "\n",
    "![](images/forloop.png)"
   ]
  },
  {
   "cell_type": "code",
   "execution_count": 72,
   "metadata": {},
   "outputs": [
    {
     "name": "stdout",
     "output_type": "stream",
     "text": [
      "dog is a mammal\n",
      "cat is a mammal\n",
      "mouse is a mammal\n"
     ]
    }
   ],
   "source": [
    "\"\"\"\n",
    "For loops iterate over lists\n",
    "prints:\n",
    "    dog is a mammal\n",
    "    cat is a mammal\n",
    "    mouse is a mammal\n",
    "\"\"\"\n",
    "for animal in [\"dog\", \"cat\", \"mouse\"]:\n",
    "    # You can use format() to interpolate formatted strings\n",
    "    print(\"{} is a mammal\".format(animal))"
   ]
  },
  {
   "cell_type": "code",
   "execution_count": 73,
   "metadata": {},
   "outputs": [
    {
     "name": "stdout",
     "output_type": "stream",
     "text": [
      "0\n",
      "1\n",
      "2\n",
      "3\n"
     ]
    }
   ],
   "source": [
    "\"\"\"\n",
    "\"range(number)\" returns an iterable of numbers\n",
    "from zero to the given number\n",
    "prints:\n",
    "    0\n",
    "    1\n",
    "    2\n",
    "    3\n",
    "\"\"\"\n",
    "for i in range(4):\n",
    "    print(i)"
   ]
  },
  {
   "cell_type": "code",
   "execution_count": 74,
   "metadata": {},
   "outputs": [
    {
     "name": "stdout",
     "output_type": "stream",
     "text": [
      "4\n",
      "5\n",
      "6\n",
      "7\n"
     ]
    }
   ],
   "source": [
    "\"\"\"\n",
    "\"range(lower, upper)\" returns an iterable of numbers\n",
    "from the lower number to the upper number\n",
    "prints:\n",
    "    4\n",
    "    5\n",
    "    6\n",
    "    7\n",
    "\"\"\"\n",
    "for i in range(4, 8):\n",
    "    print(i)"
   ]
  },
  {
   "cell_type": "code",
   "execution_count": 75,
   "metadata": {},
   "outputs": [
    {
     "name": "stdout",
     "output_type": "stream",
     "text": [
      "4\n",
      "6\n"
     ]
    }
   ],
   "source": [
    "\"\"\"\n",
    "\"range(lower, upper, step)\" returns an iterable of numbers\n",
    "from the lower number to the upper number, while incrementing\n",
    "by step. If step is not indicated, the default value is 1.\n",
    "prints:\n",
    "    4\n",
    "    6\n",
    "\"\"\"\n",
    "for i in range(4, 8, 2):\n",
    "    print(i)"
   ]
  },
  {
   "cell_type": "code",
   "execution_count": 76,
   "metadata": {},
   "outputs": [
    {
     "name": "stdout",
     "output_type": "stream",
     "text": [
      "0 dog\n",
      "1 cat\n",
      "2 mouse\n"
     ]
    }
   ],
   "source": [
    "\"\"\"\n",
    "To loop over a list, and retrieve both the index and the value of each item in the list\n",
    "prints:\n",
    "    0 dog\n",
    "    1 cat\n",
    "    2 mouse\n",
    "\"\"\"\n",
    "animals = [\"dog\", \"cat\", \"mouse\"]\n",
    "for i, value in enumerate(animals):\n",
    "    print(i, value)"
   ]
  },
  {
   "cell_type": "markdown",
   "metadata": {},
   "source": [
    "## While Loop\n",
    "With the while loop we can execute a set of statements as long as a condition is true.\n",
    "\n",
    "![](images/whileloop.png)"
   ]
  },
  {
   "cell_type": "code",
   "execution_count": 77,
   "metadata": {},
   "outputs": [
    {
     "name": "stdout",
     "output_type": "stream",
     "text": [
      "0\n",
      "1\n",
      "2\n",
      "3\n"
     ]
    }
   ],
   "source": [
    "\"\"\"\n",
    "While loops go until a condition is no longer met.\n",
    "prints:\n",
    "    0\n",
    "    1\n",
    "    2\n",
    "    3\n",
    "\"\"\"\n",
    "x = 0\n",
    "while x < 4:\n",
    "    print(x)\n",
    "    x += 1  # Shorthand for x = x + 1"
   ]
  },
  {
   "cell_type": "markdown",
   "metadata": {},
   "source": [
    "## Handle exceptions with a try/except block"
   ]
  },
  {
   "cell_type": "code",
   "execution_count": 78,
   "metadata": {},
   "outputs": [
    {
     "ename": "NameError",
     "evalue": "name 'x_x' is not defined",
     "output_type": "error",
     "traceback": [
      "\u001b[0;31m---------------------------------------------------------------------------\u001b[0m",
      "\u001b[0;31mNameError\u001b[0m                                 Traceback (most recent call last)",
      "\u001b[0;32m<ipython-input-78-84887004c68e>\u001b[0m in \u001b[0;36m<module>\u001b[0;34m\u001b[0m\n\u001b[1;32m      1\u001b[0m \u001b[0;31m# python will complain and stop working since x_x is not defined\u001b[0m\u001b[0;34m\u001b[0m\u001b[0;34m\u001b[0m\u001b[0;34m\u001b[0m\u001b[0m\n\u001b[0;32m----> 2\u001b[0;31m \u001b[0mprint\u001b[0m\u001b[0;34m(\u001b[0m\u001b[0mx_x\u001b[0m\u001b[0;34m)\u001b[0m\u001b[0;34m\u001b[0m\u001b[0;34m\u001b[0m\u001b[0m\n\u001b[0m\u001b[1;32m      3\u001b[0m \u001b[0mprint\u001b[0m\u001b[0;34m(\u001b[0m\u001b[0;34m\"Hello\"\u001b[0m\u001b[0;34m)\u001b[0m\u001b[0;34m\u001b[0m\u001b[0;34m\u001b[0m\u001b[0m\n",
      "\u001b[0;31mNameError\u001b[0m: name 'x_x' is not defined"
     ]
    }
   ],
   "source": [
    "# python will complain and stop working since x_x is not defined\n",
    "print(x_x)\n",
    "print(\"Hello\")"
   ]
  },
  {
   "cell_type": "code",
   "execution_count": 79,
   "metadata": {},
   "outputs": [
    {
     "name": "stdout",
     "output_type": "stream",
     "text": [
      "Something went wrong\n",
      "The 'try except' is finished\n",
      "I am not blocked\n"
     ]
    }
   ],
   "source": [
    "# python will output why you want it so say and keep excuting the rest.\n",
    "try:\n",
    "  print(x_x)\n",
    "except:\n",
    "  print(\"Something went wrong\")\n",
    "finally:\n",
    "  print(\"The 'try except' is finished\")\n",
    "print(\"I am not blocked\")"
   ]
  },
  {
   "cell_type": "code",
   "execution_count": 81,
   "metadata": {},
   "outputs": [
    {
     "name": "stdout",
     "output_type": "stream",
     "text": [
      "We can clean up resources here\n"
     ]
    }
   ],
   "source": [
    "try:\n",
    "    # Use \"raise\" to raise an error\n",
    "    raise IndexError(\"This is an index error\")\n",
    "except IndexError as e:\n",
    "    pass                 # Pass is just a no-op. Usually you would do recovery here.\n",
    "except (TypeError, NameError):\n",
    "    pass                 # Multiple exceptions can be handled together, if required.\n",
    "else:                    # Optional clause to the try/except block. Must follow all except blocks\n",
    "    print(\"All good!\")   # Runs only if the code in try raises no exceptions\n",
    "finally:                 #  Execute under all circumstances\n",
    "    print(\"We can clean up resources here\")"
   ]
  },
  {
   "cell_type": "markdown",
   "metadata": {},
   "source": [
    "# File input and output (文件读写)"
   ]
  },
  {
   "cell_type": "markdown",
   "metadata": {},
   "source": [
    "先用Python生成(write)一个文件：\n",
    "\n",
    "Create a New File:\n",
    "\n",
    "To create a new file in Python, use the open() method, with one of the following parameters:\n",
    "- \"r\" - Read - Default value. Opens a file for reading, error if the file does not exist\n",
    "- \"x\" - Create - will create a file, returns an error if the file exist; 生成新文件，文件已存在时会报错\n",
    "- \"a\" - Append - will create a file if the specified file does not exist；附加内容在已有文件后，文件不存在时生成新文件。\n",
    "- \"w\" - Write - will create a file if the specified file does not exist；生成新文件或覆盖已有文件。\n",
    "- \"t\" - Text - Default value. Text mode; 文本文件\n",
    "- \"b\" - Binary - Binary mode (e.g. images)；Binary文件"
   ]
  },
  {
   "cell_type": "code",
   "execution_count": 82,
   "metadata": {},
   "outputs": [],
   "source": [
    "welcome = \"\"\"Hello! Welcome to the Python Study Group!\n",
    "Hope you will enjoy it!\n",
    "Good Luck!\"\"\"\n",
    "\n",
    "with open(\"welcome.txt\", \"w+\") as file:\n",
    "    file.write(welcome)"
   ]
  },
  {
   "cell_type": "markdown",
   "metadata": {},
   "source": [
    "然后打开文件并逐行打印："
   ]
  },
  {
   "cell_type": "code",
   "execution_count": 83,
   "metadata": {},
   "outputs": [
    {
     "name": "stdout",
     "output_type": "stream",
     "text": [
      "Hello! Welcome to the Python Study Group!\n",
      "\n",
      "Hope you will enjoy it!\n",
      "\n",
      "Good Luck!\n"
     ]
    }
   ],
   "source": [
    "with open(\"welcome.txt\") as f:\n",
    "    for line in f:\n",
    "        print(line)"
   ]
  },
  {
   "cell_type": "markdown",
   "metadata": {},
   "source": [
    "dict (字典)和json"
   ]
  },
  {
   "cell_type": "code",
   "execution_count": 84,
   "metadata": {},
   "outputs": [],
   "source": [
    "# Writing to a file\n",
    "contents = {\"aa\": 12, \"bb\": 21}\n",
    "with open(\"myfile1.txt\", \"w+\") as file:\n",
    "    file.write(str(contents))        # writes a string to a file\n",
    "\n",
    "with open(\"myfile2.txt\", \"w+\") as file:\n",
    "    file.write(json.dumps(contents)) # writes an object to a file"
   ]
  },
  {
   "cell_type": "code",
   "execution_count": 85,
   "metadata": {},
   "outputs": [
    {
     "name": "stdout",
     "output_type": "stream",
     "text": [
      "{'aa': 12, 'bb': 21}\n"
     ]
    }
   ],
   "source": [
    "# Reading from a file\n",
    "with open('myfile1.txt', \"r+\") as file:\n",
    "    contents = file.read()           # reads a string from a file\n",
    "print(contents)\n",
    "# print: {\"aa\": 12, \"bb\": 21}"
   ]
  },
  {
   "cell_type": "code",
   "execution_count": 86,
   "metadata": {},
   "outputs": [
    {
     "name": "stdout",
     "output_type": "stream",
     "text": [
      "{'aa': 12, 'bb': 21}\n"
     ]
    }
   ],
   "source": [
    "with open('myfile2.txt', \"r+\") as file:\n",
    "    contents = json.load(file)       # reads a json object from a file\n",
    "print(contents)\n",
    "# print: {\"aa\": 12, \"bb\": 21}"
   ]
  },
  {
   "cell_type": "markdown",
   "metadata": {},
   "source": [
    "Iterable ()"
   ]
  },
  {
   "cell_type": "code",
   "execution_count": 87,
   "metadata": {},
   "outputs": [
    {
     "name": "stdout",
     "output_type": "stream",
     "text": [
      "dict_keys(['one', 'two', 'three'])\n",
      "one\n",
      "two\n",
      "three\n"
     ]
    },
    {
     "ename": "TypeError",
     "evalue": "'dict_keys' object is not subscriptable",
     "output_type": "error",
     "traceback": [
      "\u001b[0;31m---------------------------------------------------------------------------\u001b[0m",
      "\u001b[0;31mTypeError\u001b[0m                                 Traceback (most recent call last)",
      "\u001b[0;32m<ipython-input-87-6a921b849b25>\u001b[0m in \u001b[0;36m<module>\u001b[0;34m\u001b[0m\n\u001b[1;32m     12\u001b[0m \u001b[0;34m\u001b[0m\u001b[0m\n\u001b[1;32m     13\u001b[0m \u001b[0;31m# However we cannot address elements by index.\u001b[0m\u001b[0;34m\u001b[0m\u001b[0;34m\u001b[0m\u001b[0;34m\u001b[0m\u001b[0m\n\u001b[0;32m---> 14\u001b[0;31m \u001b[0mour_iterable\u001b[0m\u001b[0;34m[\u001b[0m\u001b[0;36m1\u001b[0m\u001b[0;34m]\u001b[0m  \u001b[0;31m# Raises a TypeError\u001b[0m\u001b[0;34m\u001b[0m\u001b[0;34m\u001b[0m\u001b[0m\n\u001b[0m\u001b[1;32m     15\u001b[0m \u001b[0;34m\u001b[0m\u001b[0m\n\u001b[1;32m     16\u001b[0m \u001b[0;31m# An iterable is an object that knows how to create an iterator.\u001b[0m\u001b[0;34m\u001b[0m\u001b[0;34m\u001b[0m\u001b[0;34m\u001b[0m\u001b[0m\n",
      "\u001b[0;31mTypeError\u001b[0m: 'dict_keys' object is not subscriptable"
     ]
    }
   ],
   "source": [
    "# Python offers a fundamental abstraction called the Iterable.\n",
    "# An iterable is an object that can be treated as a sequence.\n",
    "# The object returned by the range function, is an iterable.\n",
    "\n",
    "filled_dict = {\"one\": 1, \"two\": 2, \"three\": 3}\n",
    "our_iterable = filled_dict.keys()\n",
    "print(our_iterable)  # => dict_keys(['one', 'two', 'three']). This is an object that implements our Iterable interface.\n",
    "\n",
    "# We can loop over it.\n",
    "for i in our_iterable:\n",
    "    print(i)  # Prints one, two, three\n",
    "\n",
    "# However we cannot address elements by index.\n",
    "our_iterable[1]  # Raises a TypeError\n",
    "\n",
    "# An iterable is an object that knows how to create an iterator.\n",
    "our_iterator = iter(our_iterable)\n",
    "\n",
    "# Our iterator is an object that can remember the state as we traverse through it.\n",
    "a# We get the next object with \"next()\".\n",
    "next(our_iterator)  # => \"one\"\n",
    "\n",
    "# It maintains state as we iterate.\n",
    "next(our_iterator)  # => \"two\"\n",
    "next(our_iterator)  # => \"three\"\n",
    "\n",
    "# After the iterator has returned all of its data, it raises a StopIteration exception\n",
    "next(our_iterator)  # Raises StopIteration\n",
    "\n",
    "# We can also loop over it, in fact, \"for\" does this implicitly!\n",
    "our_iterator = iter(our_iterable)\n",
    "for i in our_iterator:\n",
    "    print(i)  # Prints one, two, three\n",
    "\n",
    "# You can grab all the elements of an iterable or iterator by calling list() on it.\n",
    "list(our_iterable)  # => Returns [\"one\", \"two\", \"three\"]\n",
    "list(our_iterator)  # => Returns [] because state is saved"
   ]
  },
  {
   "cell_type": "markdown",
   "metadata": {},
   "source": [
    "# Functions (函数）\n",
    "\n",
    "![](images/blackbox.png)"
   ]
  },
  {
   "cell_type": "code",
   "execution_count": 89,
   "metadata": {},
   "outputs": [
    {
     "name": "stdout",
     "output_type": "stream",
     "text": [
      "x is 5 and y is 6\n",
      "x is 5 and y is 6\n"
     ]
    },
    {
     "data": {
      "text/plain": [
       "11"
      ]
     },
     "execution_count": 89,
     "metadata": {},
     "output_type": "execute_result"
    }
   ],
   "source": [
    "# Use \"def\" to create new functions\n",
    "def add(x, y):  # 参数输入\n",
    "    print(\"x is {} and y is {}\".format(x, y))\n",
    "    return x + y  # 输出　Return values with a return statement\n",
    "\n",
    "# Calling functions with parameters\n",
    "add(5, 6)  # => prints out \"x is 5 and y is 6\" and returns 11\n",
    "\n",
    "# Another way to call functions is with keyword arguments\n",
    "add(y=6, x=5)  # Keyword arguments can arrive in any order."
   ]
  },
  {
   "cell_type": "code",
   "execution_count": 90,
   "metadata": {},
   "outputs": [
    {
     "data": {
      "text/plain": [
       "{'big': 'foot', 'loch': 'ness'}"
      ]
     },
     "execution_count": 90,
     "metadata": {},
     "output_type": "execute_result"
    }
   ],
   "source": [
    "# You can define functions that take a variable number of\n",
    "# positional arguments\n",
    "def varargs(*args):\n",
    "    return args\n",
    "\n",
    "varargs(1, 2, 3)  # => (1, 2, 3)\n",
    "\n",
    "# You can define functions that take a variable number of\n",
    "# keyword arguments, as well\n",
    "def keyword_args(**kwargs):\n",
    "    return kwargs\n",
    "\n",
    "# Let's call it to see what happens\n",
    "keyword_args(big=\"foot\", loch=\"ness\")  # => {\"big\": \"foot\", \"loch\": \"ness\"}"
   ]
  },
  {
   "cell_type": "code",
   "execution_count": 91,
   "metadata": {},
   "outputs": [
    {
     "name": "stdout",
     "output_type": "stream",
     "text": [
      "(1, 2, 3, 4)\n",
      "{}\n",
      "()\n",
      "{'a': 3, 'b': 4}\n",
      "(1, 2, 3, 4)\n",
      "{'a': 3, 'b': 4}\n"
     ]
    }
   ],
   "source": [
    "# You can do both at once, if you like\n",
    "def all_the_args(*args, **kwargs):\n",
    "    print(args)\n",
    "    print(kwargs)\n",
    "\"\"\"\n",
    "all_the_args(1, 2, a=3, b=4) prints:\n",
    "    (1, 2)\n",
    "    {\"a\": 3, \"b\": 4}\n",
    "\"\"\"\n",
    "\n",
    "# When calling functions, you can do the opposite of args/kwargs!\n",
    "# Use * to expand tuples and use ** to expand kwargs.\n",
    "args = (1, 2, 3, 4)\n",
    "kwargs = {\"a\": 3, \"b\": 4}\n",
    "all_the_args(*args)            # equivalent to all_the_args(1, 2, 3, 4)\n",
    "all_the_args(**kwargs)         # equivalent to all_the_args(a=3, b=4)\n",
    "all_the_args(*args, **kwargs)  # equivalent to all_the_args(1, 2, 3, 4, a=3, b=4)"
   ]
  },
  {
   "cell_type": "markdown",
   "metadata": {},
   "source": [
    "Returning multiple values (with tuple assignments)\n",
    "\n",
    "以tuple列单输出多个数值。"
   ]
  },
  {
   "cell_type": "code",
   "execution_count": 92,
   "metadata": {},
   "outputs": [],
   "source": [
    "def swap(x, y):\n",
    "    return y, x  # Return multiple values as a tuple without the parenthesis.\n",
    "                 # (Note: parenthesis have been excluded but can be included)\n",
    "\n",
    "x = 1\n",
    "y = 2\n",
    "x, y = swap(x, y)     # => x = 2, y = 1\n",
    "# (x, y) = swap(x,y)  # Again parenthesis have been excluded but can be included."
   ]
  },
  {
   "cell_type": "markdown",
   "metadata": {},
   "source": [
    "Function Scope (作用域)"
   ]
  },
  {
   "cell_type": "code",
   "execution_count": 93,
   "metadata": {},
   "outputs": [
    {
     "name": "stdout",
     "output_type": "stream",
     "text": [
      "43\n",
      "5\n",
      "6\n"
     ]
    }
   ],
   "source": [
    "x = 5\n",
    "\n",
    "def set_x(num):\n",
    "    # Local var x not the same as global variable x\n",
    "    x = num    # => 43\n",
    "    print(x)   # => 43\n",
    "\n",
    "def set_global_x(num):\n",
    "    global x\n",
    "    print(x)   # => 5\n",
    "    x = num    # global var x is now set to 6\n",
    "    print(x)   # => 6\n",
    "\n",
    "set_x(43)\n",
    "set_global_x(6)"
   ]
  },
  {
   "cell_type": "code",
   "execution_count": 94,
   "metadata": {},
   "outputs": [
    {
     "data": {
      "text/plain": [
       "13"
      ]
     },
     "execution_count": 94,
     "metadata": {},
     "output_type": "execute_result"
    }
   ],
   "source": [
    "# Python has first class functions\n",
    "def create_adder(x):\n",
    "    def adder(y):\n",
    "        return x + y\n",
    "    return adder\n",
    "\n",
    "add_10 = create_adder(10)\n",
    "add_10(3)   # => 13"
   ]
  },
  {
   "cell_type": "markdown",
   "metadata": {},
   "source": [
    "Anonymous functions (匿名函数)"
   ]
  },
  {
   "cell_type": "code",
   "execution_count": 95,
   "metadata": {},
   "outputs": [
    {
     "data": {
      "text/plain": [
       "{0: 0, 1: 1, 2: 4, 3: 9, 4: 16}"
      ]
     },
     "execution_count": 95,
     "metadata": {},
     "output_type": "execute_result"
    }
   ],
   "source": [
    "(lambda x: x > 2)(3)                  # => True\n",
    "(lambda x, y: x ** 2 + y ** 2)(2, 1)  # => 5\n",
    "\n",
    "# There are built-in higher order functions\n",
    "list(map(add_10, [1, 2, 3]))          # => [11, 12, 13]\n",
    "list(map(max, [1, 2, 3], [4, 2, 1]))  # => [4, 2, 3]\n",
    "\n",
    "list(filter(lambda x: x > 5, [3, 4, 5, 6, 7]))  # => [6, 7]\n",
    "\n",
    "# We can use list comprehensions for nice maps and filters\n",
    "# List comprehension stores the output as a list which can itself be a nested list\n",
    "[add_10(i) for i in [1, 2, 3]]         # => [11, 12, 13]\n",
    "[x for x in [3, 4, 5, 6, 7] if x > 5]  # => [6, 7]\n",
    "\n",
    "# You can construct set and dict comprehensions as well.\n",
    "{x for x in 'abcddeef' if x not in 'abc'}  # => {'d', 'e', 'f'}\n",
    "{x: x**2 for x in range(5)}  # => {0: 0, 1: 1, 2: 4, 3: 9, 4: 16}"
   ]
  },
  {
   "cell_type": "markdown",
   "metadata": {},
   "source": [
    "# 模块　（Modules）"
   ]
  },
  {
   "cell_type": "markdown",
   "metadata": {},
   "source": [
    "![](images/pkg-module.png)"
   ]
  },
  {
   "cell_type": "markdown",
   "metadata": {},
   "source": [
    "每个package (插件包)是一个文件夹；每个module (模块)是文件夹里的一个.py文件；插件包可以包含子包。<sup>[1](#fn1)</sup>\n",
    "\n",
    "<a name=\"fn1\">1</a>: adapted from https://realpython.com/python-modules-packages/.\n"
   ]
  },
  {
   "cell_type": "raw",
   "metadata": {},
   "source": [
    "./pkg/\n",
    "├── mod1.py\n",
    "├── mod2.py\n",
    "└── mod3.py\n",
    "\n",
    "0 directories, 3 files"
   ]
  },
  {
   "cell_type": "markdown",
   "metadata": {},
   "source": [
    "from <module_name> import <name(s)>"
   ]
  },
  {
   "cell_type": "code",
   "execution_count": 96,
   "metadata": {},
   "outputs": [
    {
     "name": "stdout",
     "output_type": "stream",
     "text": [
      "[mod1] foo()\n"
     ]
    }
   ],
   "source": [
    "import pkg\n",
    "import pkg.mod1\n",
    "dir(pkg.mod1)\n",
    "pkg.mod1.foo()"
   ]
  },
  {
   "cell_type": "markdown",
   "metadata": {},
   "source": [
    "__file__ 查看路径："
   ]
  },
  {
   "cell_type": "code",
   "execution_count": 99,
   "metadata": {},
   "outputs": [
    {
     "data": {
      "text/plain": [
       "'/home/tan/proj/foshan/teaching/computing/pysession/pkg/mod1.py'"
      ]
     },
     "execution_count": 99,
     "metadata": {},
     "output_type": "execute_result"
    }
   ],
   "source": [
    "pkg.mod1.__file__"
   ]
  },
  {
   "cell_type": "markdown",
   "metadata": {},
   "source": [
    "from <module_name> import *"
   ]
  },
  {
   "cell_type": "code",
   "execution_count": 101,
   "metadata": {},
   "outputs": [
    {
     "ename": "AttributeError",
     "evalue": "module 'pkg' has no attribute 'mod4'",
     "output_type": "error",
     "traceback": [
      "\u001b[0;31m---------------------------------------------------------------------------\u001b[0m",
      "\u001b[0;31mAttributeError\u001b[0m                            Traceback (most recent call last)",
      "\u001b[0;32m<ipython-input-101-923772cb7725>\u001b[0m in \u001b[0;36m<module>\u001b[0;34m\u001b[0m\n\u001b[0;32m----> 1\u001b[0;31m \u001b[0;32mfrom\u001b[0m \u001b[0mpkg\u001b[0m \u001b[0;32mimport\u001b[0m \u001b[0;34m*\u001b[0m\u001b[0;34m\u001b[0m\u001b[0;34m\u001b[0m\u001b[0m\n\u001b[0m",
      "\u001b[0;31mAttributeError\u001b[0m: module 'pkg' has no attribute 'mod4'"
     ]
    }
   ],
   "source": [
    "from pkg import *"
   ]
  },
  {
   "cell_type": "markdown",
   "metadata": {},
   "source": [
    "from <module_name> import <name> as <alt_name>"
   ]
  },
  {
   "cell_type": "markdown",
   "metadata": {},
   "source": [
    "import <module_name> as <alt_name>"
   ]
  },
  {
   "cell_type": "code",
   "execution_count": 102,
   "metadata": {},
   "outputs": [],
   "source": [
    "import numpy as np\n",
    "# dir(np)"
   ]
  },
  {
   "cell_type": "markdown",
   "metadata": {},
   "source": [
    "The dir() Function\n",
    "\n",
    "The built-in function dir() returns a list of defined names in a namespace. Without arguments, it produces an alphabetically sorted list of names in the current local symbol table:"
   ]
  },
  {
   "cell_type": "code",
   "execution_count": 103,
   "metadata": {},
   "outputs": [
    {
     "data": {
      "text/plain": [
       "'/usr/lib/python3.8/lib-dynload/math.cpython-38-x86_64-linux-gnu.so'"
      ]
     },
     "execution_count": 103,
     "metadata": {},
     "output_type": "execute_result"
    }
   ],
   "source": [
    "import math\n",
    "math.__file__"
   ]
  },
  {
   "cell_type": "markdown",
   "metadata": {},
   "source": [
    "Namespace (域名 或命名空间)"
   ]
  },
  {
   "cell_type": "code",
   "execution_count": 104,
   "metadata": {},
   "outputs": [
    {
     "name": "stdout",
     "output_type": "stream",
     "text": [
      "3.141592653589793\n"
     ]
    },
    {
     "data": {
      "text/plain": [
       "2.23606797749979"
      ]
     },
     "execution_count": 104,
     "metadata": {},
     "output_type": "execute_result"
    }
   ],
   "source": [
    "## Namespace\n",
    "# dir('name')\n",
    "import math\n",
    "print(math.pi)\n",
    "math.sqrt(5)"
   ]
  },
  {
   "cell_type": "markdown",
   "metadata": {},
   "source": [
    "Some examples with math module:"
   ]
  },
  {
   "cell_type": "code",
   "execution_count": 105,
   "metadata": {},
   "outputs": [
    {
     "name": "stdout",
     "output_type": "stream",
     "text": [
      "4.0\n",
      "4\n",
      "3\n"
     ]
    },
    {
     "data": {
      "text/plain": [
       "['__doc__',\n",
       " '__file__',\n",
       " '__loader__',\n",
       " '__name__',\n",
       " '__package__',\n",
       " '__spec__',\n",
       " 'acos',\n",
       " 'acosh',\n",
       " 'asin',\n",
       " 'asinh',\n",
       " 'atan',\n",
       " 'atan2',\n",
       " 'atanh',\n",
       " 'ceil',\n",
       " 'comb',\n",
       " 'copysign',\n",
       " 'cos',\n",
       " 'cosh',\n",
       " 'degrees',\n",
       " 'dist',\n",
       " 'e',\n",
       " 'erf',\n",
       " 'erfc',\n",
       " 'exp',\n",
       " 'expm1',\n",
       " 'fabs',\n",
       " 'factorial',\n",
       " 'floor',\n",
       " 'fmod',\n",
       " 'frexp',\n",
       " 'fsum',\n",
       " 'gamma',\n",
       " 'gcd',\n",
       " 'hypot',\n",
       " 'inf',\n",
       " 'isclose',\n",
       " 'isfinite',\n",
       " 'isinf',\n",
       " 'isnan',\n",
       " 'isqrt',\n",
       " 'ldexp',\n",
       " 'lgamma',\n",
       " 'log',\n",
       " 'log10',\n",
       " 'log1p',\n",
       " 'log2',\n",
       " 'modf',\n",
       " 'nan',\n",
       " 'perm',\n",
       " 'pi',\n",
       " 'pow',\n",
       " 'prod',\n",
       " 'radians',\n",
       " 'remainder',\n",
       " 'sin',\n",
       " 'sinh',\n",
       " 'sqrt',\n",
       " 'tan',\n",
       " 'tanh',\n",
       " 'tau',\n",
       " 'trunc']"
      ]
     },
     "execution_count": 105,
     "metadata": {},
     "output_type": "execute_result"
    }
   ],
   "source": [
    "# You can import modules\n",
    "import math\n",
    "print(math.sqrt(16))  # => 4.0\n",
    "\n",
    "# You can get specific functions from a module\n",
    "from math import ceil, floor\n",
    "print(ceil(3.7))   # => 4.0\n",
    "print(floor(3.7))  # => 3.0\n",
    "\n",
    "# You can import all functions from a module.\n",
    "# Warning: this is not recommended\n",
    "from math import *\n",
    "\n",
    "# You can shorten module names\n",
    "import math as m\n",
    "math.sqrt(16) == m.sqrt(16)  # => True\n",
    "\n",
    "# Python modules are just ordinary Python files. You\n",
    "# can write your own, and import them. The name of the\n",
    "# module is the same as the name of the file.\n",
    "\n",
    "# You can find out which functions and attributes\n",
    "# are defined in a module.\n",
    "import math\n",
    "dir(math)\n",
    "\n",
    "# If you have a Python script named math.py in the same\n",
    "# folder as your current script, the file math.py will\n",
    "# be loaded instead of the built-in Python module.\n",
    "# This happens because the local folder has priority\n",
    "# over Python's built-in libraries."
   ]
  },
  {
   "cell_type": "markdown",
   "metadata": {},
   "source": [
    "# Classes　(类)"
   ]
  },
  {
   "cell_type": "code",
   "execution_count": 106,
   "metadata": {},
   "outputs": [
    {
     "name": "stdout",
     "output_type": "stream",
     "text": [
      "Ian: hi\n",
      "Joel: hello\n",
      "Ian: H. sapiens\n",
      "Ian: H. neanderthalensis\n",
      "Joel: H. neanderthalensis\n",
      "*grunt*\n",
      "*grunt*\n",
      "Ian: 42\n",
      "Joel: 0\n"
     ]
    }
   ],
   "source": [
    "# We use the \"class\" statement to create a class\n",
    "class Human:\n",
    "\n",
    "    # A class attribute. It is shared by all instances of this class\n",
    "    species = \"H. sapiens\"\n",
    "\n",
    "    # Basic initializer, this is called when this class is instantiated.\n",
    "    # Note that the double leading and trailing underscores denote objects\n",
    "    # or attributes that are used by Python but that live in user-controlled\n",
    "    # namespaces. Methods(or objects or attributes) like: __init__, __str__,\n",
    "    # __repr__ etc. are called special methods (or sometimes called dunder methods)\n",
    "    # You should not invent such names on your own.\n",
    "    def __init__(self, name):\n",
    "        # Assign the argument to the instance's name attribute\n",
    "        self.name = name\n",
    "\n",
    "        # Initialize property\n",
    "        self._age = 0\n",
    "\n",
    "    # An instance method. All methods take \"self\" as the first argument\n",
    "    def say(self, msg):\n",
    "        print(\"{name}: {message}\".format(name=self.name, message=msg))\n",
    "\n",
    "    # Another instance method\n",
    "    def sing(self):\n",
    "        return 'yo... yo... microphone check... one two... one two...'\n",
    "\n",
    "    # A class method is shared among all instances\n",
    "    # They are called with the calling class as the first argument\n",
    "    @classmethod\n",
    "    def get_species(cls):\n",
    "        return cls.species\n",
    "\n",
    "    # A static method is called without a class or instance reference\n",
    "    @staticmethod\n",
    "    def grunt():\n",
    "        return \"*grunt*\"\n",
    "\n",
    "    # A property is just like a getter.\n",
    "    # It turns the method age() into an read-only attribute of the same name.\n",
    "    # There's no need to write trivial getters and setters in Python, though.\n",
    "    @property\n",
    "    def age(self):\n",
    "        return self._age\n",
    "\n",
    "    # This allows the property to be set\n",
    "    @age.setter\n",
    "    def age(self, age):\n",
    "        self._age = age\n",
    "\n",
    "    # This allows the property to be deleted\n",
    "    @age.deleter\n",
    "    def age(self):\n",
    "        del self._age\n",
    "\n",
    "\n",
    "# When a Python interpreter reads a source file it executes all its code.\n",
    "# This __name__ check makes sure this code block is only executed when this\n",
    "# module is the main program.\n",
    "if __name__ == '__main__':\n",
    "    # Instantiate a class\n",
    "    i = Human(name=\"Ian\")\n",
    "    i.say(\"hi\")                     # \"Ian: hi\"\n",
    "    j = Human(\"Joel\")\n",
    "    j.say(\"hello\")                  # \"Joel: hello\"\n",
    "    # i and j are instances of type Human, or in other words: they are Human objects\n",
    "\n",
    "    # Call our class method\n",
    "    i.say(i.get_species())          # \"Ian: H. sapiens\"\n",
    "    # Change the shared attribute\n",
    "    Human.species = \"H. neanderthalensis\"\n",
    "    i.say(i.get_species())          # => \"Ian: H. neanderthalensis\"\n",
    "    j.say(j.get_species())          # => \"Joel: H. neanderthalensis\"\n",
    "\n",
    "    # Call the static method\n",
    "    print(Human.grunt())            # => \"*grunt*\"\n",
    "\n",
    "    # Static methods can be called by instances too\n",
    "    print(i.grunt())                # => \"*grunt*\"\n",
    "\n",
    "    # Update the property for this instance\n",
    "    i.age = 42\n",
    "    # Get the property\n",
    "    i.say(i.age)                    # => \"Ian: 42\"\n",
    "    j.say(j.age)                    # => \"Joel: 0\"\n",
    "    # Delete the property\n",
    "    del i.age\n",
    "    # i.age                         # => this would raise an AttributeError"
   ]
  },
  {
   "cell_type": "code",
   "execution_count": 107,
   "metadata": {},
   "outputs": [
    {
     "name": "stdout",
     "output_type": "stream",
     "text": [
      "H. neanderthalensis\n",
      "Ian: How are doing?\n"
     ]
    }
   ],
   "source": [
    "i = Human(name=\"Ian\")\n",
    "print(i.species)\n",
    "i.say(\"How are doing?\")                     # \"Ian: hi\""
   ]
  },
  {
   "cell_type": "code",
   "execution_count": 108,
   "metadata": {},
   "outputs": [],
   "source": [
    "import human"
   ]
  },
  {
   "cell_type": "code",
   "execution_count": 109,
   "metadata": {},
   "outputs": [
    {
     "name": "stdout",
     "output_type": "stream",
     "text": [
      "I am human\n",
      "I am a superhero\n",
      "(<class '__main__.Superhero'>, <class 'human.Human'>, <class 'object'>)\n",
      "Superhuman\n",
      "Dun, dun, DUN!\n",
      "Tick: Spoon\n",
      "I wield the power of super strength!\n",
      "I wield the power of bulletproofing!\n",
      "31\n",
      "Am I Oscar eligible? False\n"
     ]
    }
   ],
   "source": [
    "####################################################\n",
    "## 6.1 Inheritance\n",
    "####################################################\n",
    "\n",
    "# Inheritance allows new child classes to be defined that inherit methods and\n",
    "# variables from their parent class.\n",
    "\n",
    "# Using the Human class defined above as the base or parent class, we can\n",
    "# define a child class, Superhero, which inherits the class variables like\n",
    "# \"species\", \"name\", and \"age\", as well as methods, like \"sing\" and \"grunt\"\n",
    "# from the Human class, but can also have its own unique properties.\n",
    "\n",
    "# To take advantage of modularization by file you could place the classes above in their own files,\n",
    "# say, human.py\n",
    "\n",
    "# To import functions from other files use the following format\n",
    "# from \"filename-without-extension\" import \"function-or-class\"\n",
    "\n",
    "from human import Human\n",
    "\n",
    "\n",
    "# Specify the parent class(es) as parameters to the class definition\n",
    "class Superhero(Human):\n",
    "\n",
    "    # If the child class should inherit all of the parent's definitions without\n",
    "    # any modifications, you can just use the \"pass\" keyword (and nothing else)\n",
    "    # but in this case it is commented out to allow for a unique child class:\n",
    "    # pass\n",
    "\n",
    "    # Child classes can override their parents' attributes\n",
    "    species = 'Superhuman'\n",
    "\n",
    "    # Children automatically inherit their parent class's constructor including\n",
    "    # its arguments, but can also define additional arguments or definitions\n",
    "    # and override its methods such as the class constructor.\n",
    "    # This constructor inherits the \"name\" argument from the \"Human\" class and\n",
    "    # adds the \"superpower\" and \"movie\" arguments:\n",
    "    def __init__(self, name, movie=False,\n",
    "                 superpowers=[\"super strength\", \"bulletproofing\"]):\n",
    "\n",
    "        # add additional class attributes:\n",
    "        self.fictional = True\n",
    "        self.movie = movie\n",
    "        # be aware of mutable default values, since defaults are shared\n",
    "        self.superpowers = superpowers\n",
    "\n",
    "        # The \"super\" function lets you access the parent class's methods\n",
    "        # that are overridden by the child, in this case, the __init__ method.\n",
    "        # This calls the parent class constructor:\n",
    "        super().__init__(name)\n",
    "\n",
    "    # override the sing method\n",
    "    def sing(self):\n",
    "        return 'Dun, dun, DUN!'\n",
    "\n",
    "    # add an additional instance method\n",
    "    def boast(self):\n",
    "        for power in self.superpowers:\n",
    "            print(\"I wield the power of {pow}!\".format(pow=power))\n",
    "\n",
    "\n",
    "if __name__ == '__main__':\n",
    "    sup = Superhero(name=\"Tick\")\n",
    "\n",
    "    # Instance type checks\n",
    "    if isinstance(sup, Human):\n",
    "        print('I am human')\n",
    "    if type(sup) is Superhero:\n",
    "        print('I am a superhero')\n",
    "\n",
    "    # Get the Method Resolution search Order used by both getattr() and super()\n",
    "    # This attribute is dynamic and can be updated\n",
    "    print(Superhero.__mro__)    # => (<class '__main__.Superhero'>,\n",
    "                                # => <class 'human.Human'>, <class 'object'>)\n",
    "\n",
    "    # Calls parent method but uses its own class attribute\n",
    "    print(sup.get_species())    # => Superhuman\n",
    "\n",
    "    # Calls overridden method\n",
    "    print(sup.sing())           # => Dun, dun, DUN!\n",
    "\n",
    "    # Calls method from Human\n",
    "    sup.say('Spoon')            # => Tick: Spoon\n",
    "\n",
    "    # Call method that exists only in Superhero\n",
    "    sup.boast()                 # => I wield the power of super strength!\n",
    "                                # => I wield the power of bulletproofing!\n",
    "\n",
    "    # Inherited class attribute\n",
    "    sup.age = 31\n",
    "    print(sup.age)              # => 31\n",
    "\n",
    "    # Attribute that only exists within Superhero\n",
    "    print('Am I Oscar eligible? ' + str(sup.movie))"
   ]
  },
  {
   "cell_type": "code",
   "execution_count": 110,
   "metadata": {},
   "outputs": [
    {
     "name": "stdout",
     "output_type": "stream",
     "text": [
      "... ... ...\n",
      "True\n",
      "(<class '__main__.Batman'>, <class 'superhero.Superhero'>, <class 'human.Human'>, <class 'bat.Bat'>, <class 'object'>)\n",
      "Superhuman\n",
      "nan nan nan nan nan batman!\n",
      "Sad Affleck: I agree\n",
      "))) ... (((\n",
      "100\n",
      "Can I fly? False\n"
     ]
    }
   ],
   "source": [
    "####################################################\n",
    "## 6.2 Multiple Inheritance\n",
    "####################################################\n",
    "\n",
    "# Another class definition\n",
    "# bat.py\n",
    "class Bat:\n",
    "    species = 'Baty'\n",
    "\n",
    "    def __init__(self, can_fly=True):\n",
    "        self.fly = can_fly\n",
    "\n",
    "    # This class also has a say method\n",
    "    def say(self, msg):\n",
    "        msg = '... ... ...'\n",
    "        return msg\n",
    "\n",
    "    # And its own method as well\n",
    "    def sonar(self):\n",
    "        return '))) ... ((('\n",
    "\n",
    "if __name__ == '__main__':\n",
    "    b = Bat()\n",
    "    print(b.say('hello'))\n",
    "    print(b.fly)\n",
    "\n",
    "\n",
    "# And yet another class definition that inherits from Superhero and Bat\n",
    "# superhero.py\n",
    "from superhero import Superhero\n",
    "from bat import Bat\n",
    "\n",
    "# Define Batman as a child that inherits from both Superhero and Bat\n",
    "class Batman(Superhero, Bat):\n",
    "\n",
    "    def __init__(self, *args, **kwargs):\n",
    "        # Typically to inherit attributes you have to call super:\n",
    "        # super(Batman, self).__init__(*args, **kwargs)\n",
    "        # However we are dealing with multiple inheritance here, and super()\n",
    "        # only works with the next base class in the MRO list.\n",
    "        # So instead we explicitly call __init__ for all ancestors.\n",
    "        # The use of *args and **kwargs allows for a clean way to pass arguments,\n",
    "        # with each parent \"peeling a layer of the onion\".\n",
    "        Superhero.__init__(self, 'anonymous', movie=True,\n",
    "                           superpowers=['Wealthy'], *args, **kwargs)\n",
    "        Bat.__init__(self, *args, can_fly=False, **kwargs)\n",
    "        # override the value for the name attribute\n",
    "        self.name = 'Sad Affleck'\n",
    "\n",
    "    def sing(self):\n",
    "        return 'nan nan nan nan nan batman!'\n",
    "\n",
    "\n",
    "if __name__ == '__main__':\n",
    "    sup = Batman()\n",
    "\n",
    "    # Get the Method Resolution search Order used by both getattr() and super().\n",
    "    # This attribute is dynamic and can be updated\n",
    "    print(Batman.__mro__)       # => (<class '__main__.Batman'>,\n",
    "                                # => <class 'superhero.Superhero'>,\n",
    "                                # => <class 'human.Human'>,\n",
    "                                # => <class 'bat.Bat'>, <class 'object'>)\n",
    "\n",
    "    # Calls parent method but uses its own class attribute\n",
    "    print(sup.get_species())    # => Superhuman\n",
    "\n",
    "    # Calls overridden method\n",
    "    print(sup.sing())           # => nan nan nan nan nan batman!\n",
    "\n",
    "    # Calls method from Human, because inheritance order matters\n",
    "    sup.say('I agree')          # => Sad Affleck: I agree\n",
    "\n",
    "    # Call method that exists only in 2nd ancestor\n",
    "    print(sup.sonar())          # => ))) ... (((\n",
    "\n",
    "    # Inherited class attribute\n",
    "    sup.age = 100\n",
    "    print(sup.age)              # => 100\n",
    "\n",
    "    # Inherited attribute from 2nd ancestor whose default value was overridden.\n",
    "    print('Can I fly? ' + str(sup.fly)) # => Can I fly? False"
   ]
  },
  {
   "cell_type": "code",
   "execution_count": 111,
   "metadata": {},
   "outputs": [
    {
     "name": "stdout",
     "output_type": "stream",
     "text": [
      "2\n",
      "4\n",
      "6\n",
      "8\n",
      "10\n",
      "12\n",
      "14\n",
      "16\n",
      "18\n",
      "20\n",
      "22\n",
      "24\n",
      "26\n",
      "28\n",
      "30\n",
      "-1\n",
      "-2\n",
      "-3\n",
      "-4\n",
      "-5\n",
      "[-1, -2, -3, -4, -5]\n",
      "Can you buy me a beer?\n",
      "Can you buy me a beer? Please! I am poor :(\n"
     ]
    }
   ],
   "source": [
    "####################################################\n",
    "## 7. Advanced\n",
    "####################################################\n",
    "\n",
    "# Generators help you make lazy code.\n",
    "def double_numbers(iterable):\n",
    "    for i in iterable:\n",
    "        yield i + i\n",
    "\n",
    "# Generators are memory-efficient because they only load the data needed to\n",
    "# process the next value in the iterable. This allows them to perform\n",
    "# operations on otherwise prohibitively large value ranges.\n",
    "# NOTE: `range` replaces `xrange` in Python 3.\n",
    "for i in double_numbers(range(1, 900000000)):  # `range` is a generator.\n",
    "    print(i)\n",
    "    if i >= 30:\n",
    "        break\n",
    "\n",
    "# Just as you can create a list comprehension, you can create generator\n",
    "# comprehensions as well.\n",
    "values = (-x for x in [1,2,3,4,5])\n",
    "for x in values:\n",
    "    print(x)  # prints -1 -2 -3 -4 -5 to console/terminal\n",
    "\n",
    "# You can also cast a generator comprehension directly to a list.\n",
    "values = (-x for x in [1,2,3,4,5])\n",
    "gen_to_list = list(values)\n",
    "print(gen_to_list)  # => [-1, -2, -3, -4, -5]\n",
    "\n",
    "\n",
    "# Decorators\n",
    "# In this example `beg` wraps `say`. If say_please is True then it\n",
    "# will change the returned message.\n",
    "from functools import wraps\n",
    "\n",
    "\n",
    "def beg(target_function):\n",
    "    @wraps(target_function)\n",
    "    def wrapper(*args, **kwargs):\n",
    "        msg, say_please = target_function(*args, **kwargs)\n",
    "        if say_please:\n",
    "            return \"{} {}\".format(msg, \"Please! I am poor :(\")\n",
    "        return msg\n",
    "\n",
    "    return wrapper\n",
    "\n",
    "\n",
    "@beg\n",
    "def say(say_please=False):\n",
    "    msg = \"Can you buy me a beer?\"\n",
    "    return msg, say_please\n",
    "\n",
    "\n",
    "print(say())                 # Can you buy me a beer?\n",
    "print(say(say_please=True))  # Can you buy me a beer? Please! I am poor :("
   ]
  }
 ],
 "metadata": {
  "kernelspec": {
   "display_name": "Python 3",
   "language": "python",
   "name": "python3"
  },
  "language_info": {
   "codemirror_mode": {
    "name": "ipython",
    "version": 3
   },
   "file_extension": ".py",
   "mimetype": "text/x-python",
   "name": "python",
   "nbconvert_exporter": "python",
   "pygments_lexer": "ipython3",
   "version": "3.8.6"
  }
 },
 "nbformat": 4,
 "nbformat_minor": 4
}
