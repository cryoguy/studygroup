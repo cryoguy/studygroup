{
 "cells": [
  {
   "cell_type": "markdown",
   "metadata": {},
   "source": [
    "# numpy array 简介"
   ]
  },
  {
   "cell_type": "code",
   "execution_count": null,
   "metadata": {},
   "outputs": [],
   "source": [
    "import numpy as np\n",
    "arr = np.array([[[1, 2, 3], [4, 5, 6]], [[7, 8, 9], [10, 11, 12]], [[13,14,1], [1, 2,3]]])\n",
    "arr"
   ]
  },
  {
   "cell_type": "markdown",
   "metadata": {},
   "source": [
    "Check Number of Dimensions?"
   ]
  },
  {
   "cell_type": "code",
   "execution_count": null,
   "metadata": {},
   "outputs": [],
   "source": [
    "print(arr.ndim) "
   ]
  },
  {
   "cell_type": "code",
   "execution_count": null,
   "metadata": {},
   "outputs": [],
   "source": [
    "print(arr.shape)"
   ]
  },
  {
   "cell_type": "code",
   "execution_count": 4,
   "metadata": {},
   "outputs": [
    {
     "name": "stdout",
     "output_type": "stream",
     "text": [
      "[[1 2 3]\n",
      " [4 5 6]]\n"
     ]
    }
   ],
   "source": [
    "print(arr[0])"
   ]
  },
  {
   "cell_type": "code",
   "execution_count": 5,
   "metadata": {},
   "outputs": [
    {
     "name": "stdout",
     "output_type": "stream",
     "text": [
      "[4 5 6]\n"
     ]
    }
   ],
   "source": [
    "print(arr[0,1])"
   ]
  },
  {
   "cell_type": "code",
   "execution_count": 6,
   "metadata": {},
   "outputs": [
    {
     "name": "stdout",
     "output_type": "stream",
     "text": [
      "5\n"
     ]
    }
   ],
   "source": [
    "print(arr[0, 1, 1]) "
   ]
  },
  {
   "cell_type": "code",
   "execution_count": 7,
   "metadata": {},
   "outputs": [
    {
     "name": "stdout",
     "output_type": "stream",
     "text": [
      "[0 1 2]\n"
     ]
    }
   ],
   "source": [
    "a_1d = np.arange(3)\n",
    "print(a_1d)\n",
    "# [0 1 2]"
   ]
  },
  {
   "cell_type": "code",
   "execution_count": 8,
   "metadata": {},
   "outputs": [
    {
     "name": "stdout",
     "output_type": "stream",
     "text": [
      "[[ 0  1  2  3]\n",
      " [ 4  5  6  7]\n",
      " [ 8  9 10 11]]\n"
     ]
    }
   ],
   "source": [
    "a_2d = np.arange(12).reshape((3, 4))\n",
    "print(a_2d)"
   ]
  },
  {
   "cell_type": "code",
   "execution_count": 9,
   "metadata": {},
   "outputs": [
    {
     "name": "stdout",
     "output_type": "stream",
     "text": [
      "[[[ 0  1  2  3]\n",
      "  [ 4  5  6  7]\n",
      "  [ 8  9 10 11]]\n",
      "\n",
      " [[12 13 14 15]\n",
      "  [16 17 18 19]\n",
      "  [20 21 22 23]]]\n"
     ]
    }
   ],
   "source": [
    "a_3d = np.arange(24).reshape((2, 3, 4))\n",
    "print(a_3d)"
   ]
  },
  {
   "cell_type": "code",
   "execution_count": 10,
   "metadata": {},
   "outputs": [
    {
     "name": "stdout",
     "output_type": "stream",
     "text": [
      "(2, 3, 4)\n"
     ]
    }
   ],
   "source": [
    "print(a_3d.shape)"
   ]
  },
  {
   "cell_type": "markdown",
   "metadata": {},
   "source": [
    "# Image Data\n",
    "## Basics"
   ]
  },
  {
   "cell_type": "markdown",
   "metadata": {},
   "source": [
    "Each pixel of RGB image is encoded with 3 bytes. Each byte (8 bits) has a level from 0-255, i.e. 2^8. 彩色图片 (RGB) 是 3x8 = 24 bits；　如果在加透明度信息 (alpha), RGBA就变成了4x8 =32 bits;  黑白相片只有灰度是 1x8 = 8 bits。"
   ]
  },
  {
   "cell_type": "code",
   "execution_count": 11,
   "metadata": {},
   "outputs": [
    {
     "data": {
      "text/plain": [
       "<matplotlib.image.AxesImage at 0x7fc9bff6a2e0>"
      ]
     },
     "execution_count": 11,
     "metadata": {},
     "output_type": "execute_result"
    },
    {
     "data": {
      "image/png": "[encoded data removed]",
      "text/plain": [
       "<Figure size 432x288 with 1 Axes>"
      ]
     },
     "metadata": {
      "needs_background": "light"
     },
     "output_type": "display_data"
    }
   ],
   "source": [
    "from PIL import Image\n",
    "from matplotlib import cm\n",
    "import matplotlib.pyplot as plt\n",
    "pixel_rgb = [[[255, 0, 0, 255],\n",
    "      [0, 255,  0, 255],\n",
    "      [0, 0, 255, 255],\n",
    "      ]]\n",
    "plt.imshow(pixel_rgb)\n",
    "# remove axis\n",
    "#fig = plt.imshow(pixel_rgb)\n",
    "# plt.axis('off')\n",
    "# fig.axes.get_xaxis().set_visible(False)\n",
    "# fig.axes.get_yaxis().set_visible(False)\n"
   ]
  },
  {
   "cell_type": "markdown",
   "metadata": {},
   "source": [
    "## array to image "
   ]
  },
  {
   "cell_type": "markdown",
   "metadata": {},
   "source": [
    "each matrix block is a row of data, and each element within that is the pixel values in RGB-A (Red Green Blue Alpha)."
   ]
  },
  {
   "cell_type": "code",
   "execution_count": 12,
   "metadata": {},
   "outputs": [
    {
     "data": {
      "text/plain": [
       "<matplotlib.image.AxesImage at 0x7fc9bfa28760>"
      ]
     },
     "execution_count": 12,
     "metadata": {},
     "output_type": "execute_result"
    },
    {
     "data": {
      "image/png": "[encoded data removed]",
      "text/plain": [
       "<Figure size 432x288 with 1 Axes>"
      ]
     },
     "metadata": {
      "needs_background": "light"
     },
     "output_type": "display_data"
    }
   ],
   "source": [
    "np.random.seed(2021) \n",
    "myarray = np.random.rand(4,5)\n",
    "im = Image.fromarray(np.uint8(cm.gist_earth(myarray)*255))\n",
    "im.save('images/arr2img.png')\n",
    "plt.imshow(im)"
   ]
  },
  {
   "cell_type": "markdown",
   "metadata": {},
   "source": [
    "具体过程详解：\n",
    "\n",
    "adapted from https://stackoverflow.com/questions/10965417/how-to-convert-a-numpy-array-to-pil-image-applying-matplotlib-colormap.\n",
    "\n",
    "1. First ensure your NumPy array, myarray, is normalised with the max value at 1.0.\n",
    "1. Apply the colormap directly to myarray.\n",
    "1. Rescale to the 0-255 range.\n",
    "1. Convert to integers, using np.uint8().\n",
    "1. Use Image.fromarray()."
   ]
  },
  {
   "cell_type": "markdown",
   "metadata": {},
   "source": [
    "随机数生成 4x5 array, 即20像素的图片, **其大小为20x3 = 60 Bytes。**"
   ]
  },
  {
   "cell_type": "code",
   "execution_count": 13,
   "metadata": {},
   "outputs": [
    {
     "name": "stdout",
     "output_type": "stream",
     "text": [
      "[[0.45214524 0.20185025 0.56930512 0.19509597 0.58370402]\n",
      " [0.47631347 0.5178144  0.82309863 0.73222503 0.06905627]\n",
      " [0.67212894 0.64348481 0.82801437 0.20446939 0.61748895]\n",
      " [0.61770101 0.30106862 0.87174059 0.58965408 0.98177009]]\n"
     ]
    }
   ],
   "source": [
    "myarray = np.random.rand(4,5)\n",
    "print(myarray)"
   ]
  },
  {
   "cell_type": "markdown",
   "metadata": {},
   "source": [
    "apply colormap (add the 3rd dimension)"
   ]
  },
  {
   "cell_type": "code",
   "execution_count": 14,
   "metadata": {},
   "outputs": [
    {
     "data": {
      "text/plain": [
       "array([[[0.26771184, 0.59904649, 0.29404223, 1.        ],\n",
       "        [0.13328612, 0.36951346, 0.48546295, 1.        ],\n",
       "        [0.50426553, 0.66033449, 0.32793593, 1.        ],\n",
       "        [0.12805921, 0.35484624, 0.48404118, 1.        ],\n",
       "        [0.5301321 , 0.66721725, 0.33289364, 1.        ]],\n",
       "\n",
       "       [[0.30632035, 0.61259164, 0.2793524 , 1.        ],\n",
       "        [0.40220749, 0.63742441, 0.30449746, 1.        ],\n",
       "        [0.79481623, 0.66168549, 0.49220849, 1.        ],\n",
       "        [0.73236792, 0.68658485, 0.37999181, 1.        ],\n",
       "        [0.04442871, 0.09008809, 0.46129296, 1.        ]],\n",
       "\n",
       "       [[0.67886482, 0.70679308, 0.36140042, 1.        ],\n",
       "        [0.6271317 , 0.69302757, 0.35148502, 1.        ],\n",
       "        [0.79920254, 0.66508418, 0.50181597, 1.        ],\n",
       "        [0.13589957, 0.37684706, 0.48617383, 1.        ],\n",
       "        [0.58833186, 0.68270344, 0.34404847, 1.        ]],\n",
       "\n",
       "       [[0.58833186, 0.68270344, 0.34404847, 1.        ],\n",
       "        [0.19742595, 0.51326054, 0.47645582, 1.        ],\n",
       "        [0.85183821, 0.71031402, 0.6171058 , 1.        ],\n",
       "        [0.53659874, 0.66893794, 0.33413306, 1.        ],\n",
       "        [0.97465478, 0.93887957, 0.93701899, 1.        ]]])"
      ]
     },
     "execution_count": 14,
     "metadata": {},
     "output_type": "execute_result"
    }
   ],
   "source": [
    "cm.gist_earth(myarray)"
   ]
  },
  {
   "cell_type": "markdown",
   "metadata": {},
   "source": [
    "convert to 0 to 255 scale"
   ]
  },
  {
   "cell_type": "code",
   "execution_count": 15,
   "metadata": {},
   "outputs": [
    {
     "data": {
      "text/plain": [
       "array([[[ 68.26651927, 152.75685452,  74.9807694 , 255.        ],\n",
       "        [ 33.98796034,  94.22593155, 123.79305179, 255.        ],\n",
       "        [128.58771141, 168.38529592,  83.62366304, 255.        ],\n",
       "        [ 32.65509915,  90.48579234, 123.43050199, 255.        ],\n",
       "        [135.18368456, 170.14039796,  84.88787709, 255.        ]],\n",
       "\n",
       "       [[ 78.11168958, 156.21086789,  71.23486161, 255.        ],\n",
       "        [102.56290909, 162.54322575,  77.6468514 , 255.        ],\n",
       "        [202.67813881, 168.7298    , 125.51316393, 255.        ],\n",
       "        [186.7538204 , 175.07913636,  96.89791054, 255.        ],\n",
       "        [ 11.32932011,  22.97246355, 117.62970518, 255.        ]],\n",
       "\n",
       "       [[173.1105302 , 180.23223469,  92.15710786, 255.        ],\n",
       "        [159.91858389, 176.72203061,  89.62867977, 255.        ],\n",
       "        [203.79664684, 169.59646667, 127.96307286, 255.        ],\n",
       "        [ 34.65439093,  96.09600116, 123.97432669, 255.        ],\n",
       "        [150.02462416, 174.08937755,  87.7323587 , 255.        ]],\n",
       "\n",
       "       [[150.02462416, 174.08937755,  87.7323587 , 255.        ],\n",
       "        [ 50.34361678, 130.88143645, 121.49623332, 255.        ],\n",
       "        [217.21874315, 181.13007595, 157.36197996, 255.        ],\n",
       "        [136.83267785, 170.57917347,  85.2039306 , 255.        ],\n",
       "        [248.53696789, 239.4142914 , 238.93984278, 255.        ]]])"
      ]
     },
     "execution_count": 15,
     "metadata": {},
     "output_type": "execute_result"
    }
   ],
   "source": [
    "cm.gist_earth(myarray)*255"
   ]
  },
  {
   "cell_type": "markdown",
   "metadata": {},
   "source": [
    "convert to integer with uint8"
   ]
  },
  {
   "cell_type": "code",
   "execution_count": 16,
   "metadata": {},
   "outputs": [
    {
     "data": {
      "text/plain": [
       "array([[[ 68, 152,  74, 255],\n",
       "        [ 33,  94, 123, 255],\n",
       "        [128, 168,  83, 255],\n",
       "        [ 32,  90, 123, 255],\n",
       "        [135, 170,  84, 255]],\n",
       "\n",
       "       [[ 78, 156,  71, 255],\n",
       "        [102, 162,  77, 255],\n",
       "        [202, 168, 125, 255],\n",
       "        [186, 175,  96, 255],\n",
       "        [ 11,  22, 117, 255]],\n",
       "\n",
       "       [[173, 180,  92, 255],\n",
       "        [159, 176,  89, 255],\n",
       "        [203, 169, 127, 255],\n",
       "        [ 34,  96, 123, 255],\n",
       "        [150, 174,  87, 255]],\n",
       "\n",
       "       [[150, 174,  87, 255],\n",
       "        [ 50, 130, 121, 255],\n",
       "        [217, 181, 157, 255],\n",
       "        [136, 170,  85, 255],\n",
       "        [248, 239, 238, 255]]], dtype=uint8)"
      ]
     },
     "execution_count": 16,
     "metadata": {},
     "output_type": "execute_result"
    }
   ],
   "source": [
    "np.uint8(cm.gist_earth(myarray)*255)"
   ]
  },
  {
   "cell_type": "markdown",
   "metadata": {},
   "source": [
    "## Extract part of the image"
   ]
  },
  {
   "cell_type": "code",
   "execution_count": 32,
   "metadata": {},
   "outputs": [
    {
     "name": "stdout",
     "output_type": "stream",
     "text": [
      "(4, 5, 4)\n",
      "[[[145 172  86 255]\n",
      "  [186 175  96 255]\n",
      "  [ 23  62 120 255]\n",
      "  [ 51 132 117 255]\n",
      "  [253 250 250 255]]\n",
      "\n",
      " [[ 21  56 120 255]\n",
      "  [ 29  83 122 255]\n",
      "  [188 170  98 255]\n",
      "  [168 178  91 255]\n",
      "  [192 163 101 255]]\n",
      "\n",
      " [[ 15  39 118 255]\n",
      "  [  9  16 117 255]\n",
      "  [242 224 223 255]\n",
      "  [148 173  87 255]\n",
      "  [ 14  34 118 255]]\n",
      "\n",
      " [[125 167  82 255]\n",
      "  [148 173  87 255]\n",
      "  [242 224 223 255]\n",
      "  [131 169  84 255]\n",
      "  [ 58 141  99 255]]]\n"
     ]
    }
   ],
   "source": [
    "img = np.array(Image.open('images/arr2img.png'))\n",
    "# remove alpha\n",
    "# im=np.delete(im, np.s_[3], axis=2) \n",
    "print(img.shape)\n",
    "# (4, 5 ,4)\n",
    "# (height, width, 4)\n",
    "print(img)"
   ]
  },
  {
   "cell_type": "markdown",
   "metadata": {},
   "source": [
    "# Numpy image array 解读：\n",
    "\n",
    "<img src=\"images/image2array.jpg\" width=\"600px\" />"
   ]
  },
  {
   "cell_type": "raw",
   "metadata": {},
   "source": [
    "　　R   G   B  Alpha      Width          Height\n",
    "  -------------------\n",
    "[[[145 172  86 255]   　　第一列 \n",
    "  [186 175  96 255]　　　　第二列\n",
    "  [ 23  62 120 255]       第三列  　　　 第一行\n",
    "  [ 51 132 117 255]　　　　第四列\n",
    "  [253 250 250 255]]　　　第五列\n",
    "\n",
    " [[ 21  56 120 255]\n",
    "  [ 29  83 122 255]\n",
    "  [188 170  98 255]　　　　            　第二行\n",
    "  [168 178  91 255]\n",
    "  [192 163 101 255]]\n",
    "\n",
    " [[ 15  39 118 255]\n",
    "  [  9  16 117 255]\n",
    "  [242 224 223 255]　　　　           　第三行\n",
    "  [148 173  87 255]\n",
    "  [ 14  34 118 255]]\n",
    "\n",
    " [[125 167  82 255]\n",
    "  [148 173  87 255]\n",
    "  [242 224 223 255]　　　　           　第四行\n",
    "  [131 169  84 255]\n",
    "  [ 58 141  99 255]]]"
   ]
  },
  {
   "cell_type": "markdown",
   "metadata": {},
   "source": [
    "Notice that the first dimension is the height, and the second dimension is the width. That is because the data is ordered by lines, then each line is ordered by pixels, and finally each pixel contains 3 byte values for RGB. Each colour is represented by an unsigned byte (numpy type uint8)."
   ]
  },
  {
   "cell_type": "markdown",
   "metadata": {},
   "source": [
    "first row:"
   ]
  },
  {
   "cell_type": "code",
   "execution_count": 33,
   "metadata": {},
   "outputs": [
    {
     "name": "stdout",
     "output_type": "stream",
     "text": [
      "[[[145 172  86 255]\n",
      "  [186 175  96 255]\n",
      "  [ 23  62 120 255]\n",
      "  [ 51 132 117 255]\n",
      "  [253 250 250 255]]]\n"
     ]
    }
   ],
   "source": [
    "im_row1 = img[0]\n",
    "im_row1 = im_row1.reshape(1,5,4)\n",
    "print(im_row1)"
   ]
  },
  {
   "cell_type": "code",
   "execution_count": 34,
   "metadata": {},
   "outputs": [
    {
     "data": {
      "text/plain": [
       "<matplotlib.image.AxesImage at 0x7fc91ffb0850>"
      ]
     },
     "execution_count": 34,
     "metadata": {},
     "output_type": "execute_result"
    },
    {
     "data": {
      "image/png": "[encoded data removed]",
      "text/plain": [
       "<Figure size 432x288 with 1 Axes>"
      ]
     },
     "metadata": {
      "needs_background": "light"
     },
     "output_type": "display_data"
    }
   ],
   "source": [
    "plt.imshow(im_row1)"
   ]
  },
  {
   "cell_type": "markdown",
   "metadata": {},
   "source": [
    "The 1st pixel:"
   ]
  },
  {
   "cell_type": "code",
   "execution_count": 35,
   "metadata": {},
   "outputs": [],
   "source": [
    "im_pixel_1st = img[0,0,:]\n",
    "im_pixel_1st =im_pixel_1st.reshape(1,1,4)"
   ]
  },
  {
   "cell_type": "code",
   "execution_count": 36,
   "metadata": {},
   "outputs": [
    {
     "data": {
      "text/plain": [
       "<matplotlib.image.AxesImage at 0x7fc968f1f970>"
      ]
     },
     "execution_count": 36,
     "metadata": {},
     "output_type": "execute_result"
    },
    {
     "data": {
      "image/png": "[encoded data removed]",
      "text/plain": [
       "<Figure size 432x288 with 1 Axes>"
      ]
     },
     "metadata": {
      "needs_background": "light"
     },
     "output_type": "display_data"
    }
   ],
   "source": [
    "# pixel_1st = [[[50, 130, 121, 255]]]\n",
    "plt.imshow(im_pixel_1st)"
   ]
  },
  {
   "cell_type": "markdown",
   "metadata": {},
   "source": [
    "由以下三种颜色合成："
   ]
  },
  {
   "cell_type": "code",
   "execution_count": 37,
   "metadata": {},
   "outputs": [
    {
     "data": {
      "text/plain": [
       "<matplotlib.image.AxesImage at 0x7fc91ff2ae20>"
      ]
     },
     "execution_count": 37,
     "metadata": {},
     "output_type": "execute_result"
    },
    {
     "data": {
      "image/png": "[encoded data removed]",
      "text/plain": [
       "<Figure size 432x288 with 1 Axes>"
      ]
     },
     "metadata": {
      "needs_background": "light"
     },
     "output_type": "display_data"
    }
   ],
   "source": [
    "pixel_1st = [[[im_pixel_1st[0,0,0], 0, 0, 255],\n",
    "      [0, im_pixel_1st[0,0,1],  0, 255],\n",
    "      [0, 0, im_pixel_1st[0,0,2], 255],\n",
    "      ]]\n",
    "plt.imshow(pixel_1st)"
   ]
  },
  {
   "cell_type": "code",
   "execution_count": 38,
   "metadata": {},
   "outputs": [
    {
     "name": "stdout",
     "output_type": "stream",
     "text": [
      "The first pixel is made of RGB (R= 145 , G= 172 , B= 86 ).\n",
      "\n"
     ]
    }
   ],
   "source": [
    "print(\"The first pixel is made of RGB (R=\",im_pixel_1st[0,0,0],\", G=\",im_pixel_1st[0,0,1],\",\", \"B=\",im_pixel_1st[0,0,2],\").\\n\")"
   ]
  },
  {
   "cell_type": "markdown",
   "metadata": {},
   "source": [
    "转换为16进制 (convert rgb to hex):"
   ]
  },
  {
   "cell_type": "code",
   "execution_count": 39,
   "metadata": {},
   "outputs": [
    {
     "data": {
      "text/plain": [
       "'#7800ff'"
      ]
     },
     "execution_count": 39,
     "metadata": {},
     "output_type": "execute_result"
    }
   ],
   "source": [
    "'#{:02x}{:02x}{:02x}'.format(im_pixel_1st[0,0,0], im_pixel_1st[0,0,1], im_pixel_1st[0,0,2] )\n",
    "'#{:02x}{:02x}{:02x}'.format( 120, 0 , 255 )"
   ]
  },
  {
   "cell_type": "markdown",
   "metadata": {},
   "source": [
    "## Remove Alpha Channel"
   ]
  },
  {
   "cell_type": "code",
   "execution_count": 40,
   "metadata": {},
   "outputs": [
    {
     "name": "stdout",
     "output_type": "stream",
     "text": [
      "(4, 5, 3)\n",
      "[[[145 172  86]\n",
      "  [186 175  96]\n",
      "  [ 23  62 120]\n",
      "  [ 51 132 117]\n",
      "  [253 250 250]]\n",
      "\n",
      " [[ 21  56 120]\n",
      "  [ 29  83 122]\n",
      "  [188 170  98]\n",
      "  [168 178  91]\n",
      "  [192 163 101]]\n",
      "\n",
      " [[ 15  39 118]\n",
      "  [  9  16 117]\n",
      "  [242 224 223]\n",
      "  [148 173  87]\n",
      "  [ 14  34 118]]\n",
      "\n",
      " [[125 167  82]\n",
      "  [148 173  87]\n",
      "  [242 224 223]\n",
      "  [131 169  84]\n",
      "  [ 58 141  99]]]\n"
     ]
    }
   ],
   "source": [
    "im = np.array(Image.open('images/arr2img.png'))\n",
    "# remove alpha\n",
    "im_noalpha = np.delete(im, np.s_[3], axis=2) \n",
    "print(im_noalpha.shape)\n",
    "# (4, 5 ,3)\n",
    "# (height, width, 3)\n",
    "print(im_noalpha)"
   ]
  },
  {
   "cell_type": "code",
   "execution_count": 26,
   "metadata": {},
   "outputs": [
    {
     "data": {
      "text/plain": [
       "<matplotlib.image.AxesImage at 0x7fc9bf8fcd90>"
      ]
     },
     "execution_count": 26,
     "metadata": {},
     "output_type": "execute_result"
    },
    {
     "data": {
      "image/png": "[encoded data removed]",
      "text/plain": [
       "<Figure size 432x288 with 1 Axes>"
      ]
     },
     "metadata": {
      "needs_background": "light"
     },
     "output_type": "display_data"
    }
   ],
   "source": [
    "plt.imshow(im_noalpha)"
   ]
  },
  {
   "cell_type": "markdown",
   "metadata": {},
   "source": [
    "# 其他模式"
   ]
  },
  {
   "cell_type": "markdown",
   "metadata": {},
   "source": [
    "## CMYK\n",
    "\n",
    "- C  cyan\n",
    "- M  magetan\n",
    "- Y  yellow\n",
    "- K  black\n",
    "\n",
    "加法颜色，打印机\n",
    "\n",
    "![](images/rgb-vs-cmyk.png)"
   ]
  },
  {
   "cell_type": "markdown",
   "metadata": {},
   "source": [
    "# HSV\n",
    "\n",
    "HSV是把H（色相），S（饱和度），V（亮度）当做色值来定位颜色的空间。\n",
    "\n",
    "色相的取回值范围是0-360度，用来表答示颜色的类别。其中红色是0度，绿色是120度，蓝色是240度。\n",
    "\n",
    "饱和度的取值范围是0%~100%。用来表示颜色的鲜艳程度，灰色的饱和度是0%，纯粹的颜色（比如大红（255,0,0）青色（0,255,255）等等的饱和度是100%。\n",
    "\n",
    "亮度的取值范围是0%-100%，用来表示颜色的明暗程度，亮度为0%时为黑色，亮度为100%时为白色，介于0%-100%之间时，则用来表示各个颜色的明暗程度。\n",
    "\n",
    "![](images/HSV_color_solid_cylinder_saturation_gray.png)"
   ]
  },
  {
   "cell_type": "code",
   "execution_count": 45,
   "metadata": {},
   "outputs": [
    {
     "data": {
      "text/plain": [
       "array([[[ 81, 128, 172],\n",
       "        [ 94, 123, 186],\n",
       "        [ 12, 206, 120],\n",
       "        [ 36, 156, 132],\n",
       "        [120,   3, 253]],\n",
       "\n",
       "       [[ 11, 210, 120],\n",
       "        [ 17, 194, 122],\n",
       "        [ 96, 122, 188],\n",
       "        [ 87, 125, 178],\n",
       "        [100, 121, 192]],\n",
       "\n",
       "       [[  7, 223, 118],\n",
       "        [  2, 235, 117],\n",
       "        [118,  20, 242],\n",
       "        [ 81, 127, 173],\n",
       "        [  6, 225, 118]],\n",
       "\n",
       "       [[ 75, 130, 167],\n",
       "        [ 81, 127, 173],\n",
       "        [118,  20, 242],\n",
       "        [ 77, 128, 169],\n",
       "        [ 45, 150, 141]]], dtype=uint8)"
      ]
     },
     "execution_count": 45,
     "metadata": {},
     "output_type": "execute_result"
    }
   ],
   "source": [
    "import cv2\n",
    "hsv = cv2.cvtColor(img, cv2.COLOR_BGR2HSV)\n",
    "hsv"
   ]
  },
  {
   "cell_type": "code",
   "execution_count": 28,
   "metadata": {},
   "outputs": [],
   "source": [
    "# %run hsv_picke2.py -f hsv -i pig.jpg"
   ]
  },
  {
   "cell_type": "code",
   "execution_count": 29,
   "metadata": {},
   "outputs": [],
   "source": [
    "# %load hsv_picke2.py"
   ]
  }
 ],
 "metadata": {
  "kernelspec": {
   "display_name": "Python 3",
   "language": "python",
   "name": "python3"
  },
  "language_info": {
   "codemirror_mode": {
    "name": "ipython",
    "version": 3
   },
   "file_extension": ".py",
   "mimetype": "text/x-python",
   "name": "python",
   "nbconvert_exporter": "python",
   "pygments_lexer": "ipython3",
   "version": "3.8.6"
  }
 },
 "nbformat": 4,
 "nbformat_minor": 4
}
