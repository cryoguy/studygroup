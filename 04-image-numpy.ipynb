{
 "cells": [
  {
   "cell_type": "markdown",
   "metadata": {},
   "source": [
    "# numpy array 简介"
   ]
  },
  {
   "cell_type": "markdown",
   "metadata": {},
   "source": [
    "## Dimensions\n",
    "\n",
    "![](images/np_arr_dim.png)"
   ]
  },
  {
   "cell_type": "code",
   "execution_count": 13,
   "metadata": {},
   "outputs": [
    {
     "data": {
      "text/plain": [
       "array([ 0,  1,  2,  3,  4,  5,  6,  7,  8,  9, 10, 11, 12, 13, 14, 15, 16,\n",
       "       17])"
      ]
     },
     "execution_count": 13,
     "metadata": {},
     "output_type": "execute_result"
    }
   ],
   "source": [
    "import numpy as np\n",
    "np.arange(18)"
   ]
  },
  {
   "cell_type": "markdown",
   "metadata": {},
   "source": [
    "1D array"
   ]
  },
  {
   "cell_type": "code",
   "execution_count": 15,
   "metadata": {},
   "outputs": [
    {
     "name": "stdout",
     "output_type": "stream",
     "text": [
      "1D array  (3,) :\n",
      " [1 2 3]\n"
     ]
    }
   ],
   "source": [
    "arr1d = np.array([1,2,3])\n",
    "print(\"1D array \", arr1d.shape, \":\\n\", arr1d)"
   ]
  },
  {
   "cell_type": "markdown",
   "metadata": {},
   "source": [
    "2D array"
   ]
  },
  {
   "cell_type": "code",
   "execution_count": 24,
   "metadata": {},
   "outputs": [
    {
     "name": "stdout",
     "output_type": "stream",
     "text": [
      "2D array: (2, 3) :\n",
      " [[1 2 5]\n",
      " [2 4 6]] \n",
      "\n",
      "\n",
      "2D array  (3, 3) : \n",
      " [[ 1  2  5]\n",
      " [ 2  4  6]\n",
      " [10 20 40]]\n"
     ]
    }
   ],
   "source": [
    "arr2d1 = np.array([[1,2,5], [2,4,6]])\n",
    "print(\"2D array:\", arr2d1.shape, \":\\n\", arr2d1, \"\\n\\n\")\n",
    "# 3D array\n",
    "arr2d2 = np.array([[1,2,5], [2,4,6],[10,20,40]])\n",
    "print(\"2D array \", arr2d2.shape, \": \\n\", arr2d2)"
   ]
  },
  {
   "cell_type": "markdown",
   "metadata": {},
   "source": [
    "3D array"
   ]
  },
  {
   "cell_type": "code",
   "execution_count": 25,
   "metadata": {},
   "outputs": [
    {
     "name": "stdout",
     "output_type": "stream",
     "text": [
      "3D array Dimension  (2, 4, 3) : \n",
      " [[[0. 0. 0.]\n",
      "  [0. 0. 0.]\n",
      "  [0. 0. 0.]\n",
      "  [0. 0. 0.]]\n",
      "\n",
      " [[0. 0. 0.]\n",
      "  [0. 0. 0.]\n",
      "  [0. 0. 0.]\n",
      "  [0. 0. 0.]]]\n"
     ]
    }
   ],
   "source": [
    "arr3d = np.zeros((2, 4, 3))\n",
    "print(\"3D array Dimension \", arr3d.shape, \": \\n\", arr3d)"
   ]
  },
  {
   "cell_type": "markdown",
   "metadata": {},
   "source": [
    "nD array"
   ]
  },
  {
   "cell_type": "code",
   "execution_count": 8,
   "metadata": {},
   "outputs": [
    {
     "name": "stdout",
     "output_type": "stream",
     "text": [
      "nD array Dimension  (2, 4, 3, 5) array: \n",
      " [[[[0. 0. 0. 0. 0.]\n",
      "   [0. 0. 0. 0. 0.]\n",
      "   [0. 0. 0. 0. 0.]]\n",
      "\n",
      "  [[0. 0. 0. 0. 0.]\n",
      "   [0. 0. 0. 0. 0.]\n",
      "   [0. 0. 0. 0. 0.]]\n",
      "\n",
      "  [[0. 0. 0. 0. 0.]\n",
      "   [0. 0. 0. 0. 0.]\n",
      "   [0. 0. 0. 0. 0.]]\n",
      "\n",
      "  [[0. 0. 0. 0. 0.]\n",
      "   [0. 0. 0. 0. 0.]\n",
      "   [0. 0. 0. 0. 0.]]]\n",
      "\n",
      "\n",
      " [[[0. 0. 0. 0. 0.]\n",
      "   [0. 0. 0. 0. 0.]\n",
      "   [0. 0. 0. 0. 0.]]\n",
      "\n",
      "  [[0. 0. 0. 0. 0.]\n",
      "   [0. 0. 0. 0. 0.]\n",
      "   [0. 0. 0. 0. 0.]]\n",
      "\n",
      "  [[0. 0. 0. 0. 0.]\n",
      "   [0. 0. 0. 0. 0.]\n",
      "   [0. 0. 0. 0. 0.]]\n",
      "\n",
      "  [[0. 0. 0. 0. 0.]\n",
      "   [0. 0. 0. 0. 0.]\n",
      "   [0. 0. 0. 0. 0.]]]]\n"
     ]
    }
   ],
   "source": [
    "arrnd = np.zeros((2, 4, 3, 5))\n",
    "print(\"nD array Dimension \", arrnd.shape, \"array: \\n\", arrnd)\n",
    "# arr = np.array([[[1, 2, 3], [4, 5, 6]], [[7, 8, 9], [10, 11, 12]], [[13,14,1], [1, 2,3]]])\n",
    "# arr"
   ]
  },
  {
   "cell_type": "markdown",
   "metadata": {},
   "source": [
    "Check Number of Dimensions:"
   ]
  },
  {
   "cell_type": "code",
   "execution_count": 10,
   "metadata": {},
   "outputs": [
    {
     "name": "stdout",
     "output_type": "stream",
     "text": [
      "3\n"
     ]
    }
   ],
   "source": [
    "print(arr3d.ndim) "
   ]
  },
  {
   "cell_type": "code",
   "execution_count": 11,
   "metadata": {},
   "outputs": [
    {
     "name": "stdout",
     "output_type": "stream",
     "text": [
      "(2, 4, 3)\n"
     ]
    }
   ],
   "source": [
    "print(arr3d.shape)"
   ]
  },
  {
   "cell_type": "markdown",
   "metadata": {},
   "source": [
    "## Access elements\n",
    "\n",
    "**index start with 0.**"
   ]
  },
  {
   "cell_type": "code",
   "execution_count": 26,
   "metadata": {},
   "outputs": [],
   "source": [
    "array = np.array([1, 2, 3, 4, 5])"
   ]
  },
  {
   "cell_type": "markdown",
   "metadata": {},
   "source": [
    "the fisrt one"
   ]
  },
  {
   "cell_type": "code",
   "execution_count": 27,
   "metadata": {},
   "outputs": [
    {
     "data": {
      "text/plain": [
       "1"
      ]
     },
     "execution_count": 27,
     "metadata": {},
     "output_type": "execute_result"
    }
   ],
   "source": [
    "array[0]"
   ]
  },
  {
   "cell_type": "markdown",
   "metadata": {},
   "source": [
    "the last one"
   ]
  },
  {
   "cell_type": "code",
   "execution_count": 28,
   "metadata": {},
   "outputs": [
    {
     "data": {
      "text/plain": [
       "5"
      ]
     },
     "execution_count": 28,
     "metadata": {},
     "output_type": "execute_result"
    }
   ],
   "source": [
    "array[-1]"
   ]
  },
  {
   "cell_type": "markdown",
   "metadata": {},
   "source": [
    "multiple elements"
   ]
  },
  {
   "cell_type": "code",
   "execution_count": 29,
   "metadata": {},
   "outputs": [
    {
     "name": "stdout",
     "output_type": "stream",
     "text": [
      "[1 2 3]\n"
     ]
    }
   ],
   "source": [
    "print(array[:3])"
   ]
  },
  {
   "cell_type": "markdown",
   "metadata": {},
   "source": [
    "第2和5，注意双[["
   ]
  },
  {
   "cell_type": "code",
   "execution_count": 30,
   "metadata": {},
   "outputs": [
    {
     "name": "stdout",
     "output_type": "stream",
     "text": [
      "[2 5]\n"
     ]
    }
   ],
   "source": [
    "print(array[[1,4]])"
   ]
  },
  {
   "cell_type": "markdown",
   "metadata": {},
   "source": [
    "也可以加step选择"
   ]
  },
  {
   "cell_type": "code",
   "execution_count": 31,
   "metadata": {},
   "outputs": [
    {
     "data": {
      "text/plain": [
       "array([2, 4])"
      ]
     },
     "execution_count": 31,
     "metadata": {},
     "output_type": "execute_result"
    }
   ],
   "source": [
    "array[1:5:2]"
   ]
  },
  {
   "cell_type": "markdown",
   "metadata": {},
   "source": [
    "![](images/np_arr_accesss.png)"
   ]
  },
  {
   "cell_type": "code",
   "execution_count": 32,
   "metadata": {},
   "outputs": [
    {
     "data": {
      "text/plain": [
       "array([1, 3, 5])"
      ]
     },
     "execution_count": 32,
     "metadata": {},
     "output_type": "execute_result"
    }
   ],
   "source": [
    "array[::2]"
   ]
  },
  {
   "cell_type": "markdown",
   "metadata": {},
   "source": [
    "条件过滤"
   ]
  },
  {
   "cell_type": "code",
   "execution_count": 33,
   "metadata": {},
   "outputs": [
    {
     "data": {
      "text/plain": [
       "array([2, 4, 1])"
      ]
     },
     "execution_count": 33,
     "metadata": {},
     "output_type": "execute_result"
    }
   ],
   "source": [
    "rand = np.random.randint(low=-5, high=5, size=10)\n",
    "rand\n",
    "rand[rand>0]"
   ]
  },
  {
   "cell_type": "markdown",
   "metadata": {},
   "source": [
    "### Two-Dimensional Arrays"
   ]
  },
  {
   "cell_type": "code",
   "execution_count": 34,
   "metadata": {},
   "outputs": [
    {
     "data": {
      "text/plain": [
       "array([[ 1,  2,  3,  4,  5],\n",
       "       [ 6,  7,  8,  9, 10],\n",
       "       [11, 12, 13, 14, 15]])"
      ]
     },
     "execution_count": 34,
     "metadata": {},
     "output_type": "execute_result"
    }
   ],
   "source": [
    "array2d = np.arange(1,16,1).reshape(3,5)\n",
    "array2d"
   ]
  },
  {
   "cell_type": "markdown",
   "metadata": {},
   "source": [
    "当成1D array，array中的array："
   ]
  },
  {
   "cell_type": "markdown",
   "metadata": {},
   "source": [
    "array2d[:2]"
   ]
  },
  {
   "cell_type": "markdown",
   "metadata": {},
   "source": [
    "with step"
   ]
  },
  {
   "cell_type": "code",
   "execution_count": 35,
   "metadata": {},
   "outputs": [
    {
     "data": {
      "text/plain": [
       "array([[1, 2, 3, 4, 5]])"
      ]
     },
     "execution_count": 35,
     "metadata": {},
     "output_type": "execute_result"
    }
   ],
   "source": [
    "array2d[:2:2]"
   ]
  },
  {
   "cell_type": "markdown",
   "metadata": {},
   "source": [
    "2D array"
   ]
  },
  {
   "cell_type": "code",
   "execution_count": 36,
   "metadata": {},
   "outputs": [
    {
     "data": {
      "text/plain": [
       "array([[ 4,  5],\n",
       "       [ 9, 10]])"
      ]
     },
     "execution_count": 36,
     "metadata": {},
     "output_type": "execute_result"
    }
   ],
   "source": [
    "array2d[:2,3:]"
   ]
  },
  {
   "cell_type": "markdown",
   "metadata": {},
   "source": [
    "n dimension:"
   ]
  },
  {
   "cell_type": "code",
   "execution_count": 37,
   "metadata": {},
   "outputs": [
    {
     "data": {
      "text/plain": [
       "array([[[ 0,  1,  2],\n",
       "        [ 3,  4,  5]],\n",
       "\n",
       "       [[ 6,  7,  8],\n",
       "        [ 9, 10, 11]],\n",
       "\n",
       "       [[12, 13, 14],\n",
       "        [15, 16, 17]]])"
      ]
     },
     "execution_count": 37,
     "metadata": {},
     "output_type": "execute_result"
    }
   ],
   "source": [
    "arraynd = np.arange(18).reshape(3,2,3)\n",
    "arraynd"
   ]
  },
  {
   "cell_type": "code",
   "execution_count": 38,
   "metadata": {},
   "outputs": [
    {
     "data": {
      "text/plain": [
       "array([[[ 1,  2],\n",
       "        [ 4,  5]],\n",
       "\n",
       "       [[13, 14],\n",
       "        [16, 17]]])"
      ]
     },
     "execution_count": 38,
     "metadata": {},
     "output_type": "execute_result"
    }
   ],
   "source": [
    "arraynd[:3:2,:,1:3]"
   ]
  },
  {
   "cell_type": "markdown",
   "metadata": {},
   "source": [
    "解析：\n",
    "\n",
    "- [:3:2] means ‘index all elements up to the third index (fourth element) with a step size of two’\n",
    "- [:] means ‘do nothing’.\n",
    "- [1:3] means ‘index all elements starting at the first index (second element) and ending at the third index (fourth element)."
   ]
  },
  {
   "cell_type": "markdown",
   "metadata": {},
   "source": [
    "# Image Data\n",
    "## Basics"
   ]
  },
  {
   "cell_type": "markdown",
   "metadata": {},
   "source": [
    "Each pixel of RGB image is encoded with 3 bytes. Each byte (8 bits) has a level from 0-255, i.e. 2^8. 彩色图片 (RGB) 是 3x8 = 24 bits；　如果在加透明度信息 (alpha), RGBA就变成了4x8 =32 bits;  黑白相片只有灰度是 1x8 = 8 bits。"
   ]
  },
  {
   "cell_type": "code",
   "execution_count": 39,
   "metadata": {},
   "outputs": [
    {
     "data": {
      "text/plain": [
       "<matplotlib.image.AxesImage at 0x29bf927fc70>"
      ]
     },
     "execution_count": 39,
     "metadata": {},
     "output_type": "execute_result"
    },
    {
     "data": {
      "image/png": "[encoded data removed]",
      "text/plain": [
       "<Figure size 432x288 with 1 Axes>"
      ]
     },
     "metadata": {
      "needs_background": "light"
     },
     "output_type": "display_data"
    }
   ],
   "source": [
    "from PIL import Image\n",
    "from matplotlib import cm\n",
    "import matplotlib.pyplot as plt\n",
    "pixel_rgb = [[[255, 0, 0, 255],\n",
    "      [0, 255,  0, 255],\n",
    "      [0, 0, 255, 255],\n",
    "      ]]\n",
    "plt.imshow(pixel_rgb)\n",
    "# remove axis\n",
    "#fig = plt.imshow(pixel_rgb)\n",
    "# plt.axis('off')\n",
    "# fig.axes.get_xaxis().set_visible(False)\n",
    "# fig.axes.get_yaxis().set_visible(False)\n"
   ]
  },
  {
   "cell_type": "markdown",
   "metadata": {},
   "source": [
    "## array to image "
   ]
  },
  {
   "cell_type": "markdown",
   "metadata": {},
   "source": [
    "each matrix block is a row of data, and each element within that is the pixel values in RGB-A (Red Green Blue Alpha)."
   ]
  },
  {
   "cell_type": "code",
   "execution_count": 40,
   "metadata": {},
   "outputs": [
    {
     "data": {
      "text/plain": [
       "<matplotlib.image.AxesImage at 0x29bf93a2be0>"
      ]
     },
     "execution_count": 40,
     "metadata": {},
     "output_type": "execute_result"
    },
    {
     "data": {
      "image/png": "[encoded data removed]",
      "text/plain": [
       "<Figure size 432x288 with 1 Axes>"
      ]
     },
     "metadata": {
      "needs_background": "light"
     },
     "output_type": "display_data"
    }
   ],
   "source": [
    "np.random.seed(2021) \n",
    "myarray = np.random.rand(4,5)\n",
    "im = Image.fromarray(np.uint8(cm.gist_earth(myarray)*255))\n",
    "im.save('images/arr2img.png')\n",
    "plt.imshow(im)"
   ]
  },
  {
   "cell_type": "markdown",
   "metadata": {},
   "source": [
    "具体过程详解：\n",
    "\n",
    "adapted from https://stackoverflow.com/questions/10965417/how-to-convert-a-numpy-array-to-pil-image-applying-matplotlib-colormap.\n",
    "\n",
    "1. First ensure your NumPy array, myarray, is normalised with the max value at 1.0.\n",
    "1. Apply the colormap directly to myarray.\n",
    "1. Rescale to the 0-255 range.\n",
    "1. Convert to integers, using np.uint8().\n",
    "1. Use Image.fromarray()."
   ]
  },
  {
   "cell_type": "markdown",
   "metadata": {},
   "source": [
    "随机数生成 4x5 array, 即20像素的图片, **其大小为20x3 = 60 Bytes。**"
   ]
  },
  {
   "cell_type": "code",
   "execution_count": 41,
   "metadata": {},
   "outputs": [
    {
     "name": "stdout",
     "output_type": "stream",
     "text": [
      "[[0.45214524 0.20185025 0.56930512 0.19509597 0.58370402]\n",
      " [0.47631347 0.5178144  0.82309863 0.73222503 0.06905627]\n",
      " [0.67212894 0.64348481 0.82801437 0.20446939 0.61748895]\n",
      " [0.61770101 0.30106862 0.87174059 0.58965408 0.98177009]]\n"
     ]
    }
   ],
   "source": [
    "myarray = np.random.rand(4,5)\n",
    "print(myarray)"
   ]
  },
  {
   "cell_type": "markdown",
   "metadata": {},
   "source": [
    "apply colormap (add the 3rd dimension)"
   ]
  },
  {
   "cell_type": "code",
   "execution_count": 42,
   "metadata": {},
   "outputs": [
    {
     "data": {
      "text/plain": [
       "array([[[0.26771184, 0.59904649, 0.29404223, 1.        ],\n",
       "        [0.13328612, 0.36951346, 0.48546295, 1.        ],\n",
       "        [0.50426553, 0.66033449, 0.32793593, 1.        ],\n",
       "        [0.12805921, 0.35484624, 0.48404118, 1.        ],\n",
       "        [0.5301321 , 0.66721725, 0.33289364, 1.        ]],\n",
       "\n",
       "       [[0.30632035, 0.61259164, 0.2793524 , 1.        ],\n",
       "        [0.40220749, 0.63742441, 0.30449746, 1.        ],\n",
       "        [0.79481623, 0.66168549, 0.49220849, 1.        ],\n",
       "        [0.73236792, 0.68658485, 0.37999181, 1.        ],\n",
       "        [0.04442871, 0.09008809, 0.46129296, 1.        ]],\n",
       "\n",
       "       [[0.67886482, 0.70679308, 0.36140042, 1.        ],\n",
       "        [0.6271317 , 0.69302757, 0.35148502, 1.        ],\n",
       "        [0.79920254, 0.66508418, 0.50181597, 1.        ],\n",
       "        [0.13589957, 0.37684706, 0.48617383, 1.        ],\n",
       "        [0.58833186, 0.68270344, 0.34404847, 1.        ]],\n",
       "\n",
       "       [[0.58833186, 0.68270344, 0.34404847, 1.        ],\n",
       "        [0.19742595, 0.51326054, 0.47645582, 1.        ],\n",
       "        [0.85183821, 0.71031402, 0.6171058 , 1.        ],\n",
       "        [0.53659874, 0.66893794, 0.33413306, 1.        ],\n",
       "        [0.97465478, 0.93887957, 0.93701899, 1.        ]]])"
      ]
     },
     "execution_count": 42,
     "metadata": {},
     "output_type": "execute_result"
    }
   ],
   "source": [
    "cm.gist_earth(myarray)"
   ]
  },
  {
   "cell_type": "markdown",
   "metadata": {},
   "source": [
    "convert to 0 to 255 scale"
   ]
  },
  {
   "cell_type": "code",
   "execution_count": null,
   "metadata": {},
   "outputs": [],
   "source": [
    "cm.gist_earth(myarray)*255"
   ]
  },
  {
   "cell_type": "markdown",
   "metadata": {},
   "source": [
    "convert to integer with uint8"
   ]
  },
  {
   "cell_type": "code",
   "execution_count": null,
   "metadata": {},
   "outputs": [],
   "source": [
    "np.uint8(cm.gist_earth(myarray)*255)"
   ]
  },
  {
   "cell_type": "markdown",
   "metadata": {},
   "source": [
    "## Extract part of the image"
   ]
  },
  {
   "cell_type": "code",
   "execution_count": null,
   "metadata": {},
   "outputs": [],
   "source": [
    "img = np.array(Image.open('images/arr2img.png'))\n",
    "# remove alpha\n",
    "# im=np.delete(im, np.s_[3], axis=2) \n",
    "print(img.shape)\n",
    "# (4, 5 ,4)\n",
    "# (height, width, 4)\n",
    "print(img)"
   ]
  },
  {
   "cell_type": "markdown",
   "metadata": {},
   "source": [
    "# Numpy image array 解读：\n",
    "\n",
    "<img src=\"images/image2array.jpg\" width=\"600px\" />"
   ]
  },
  {
   "cell_type": "raw",
   "metadata": {},
   "source": [
    "      Axis 3             Axis 2         Axis 3\n",
    " -------------------------------------------------     \n",
    "   R   G   B  Alpha      Width          Height\n",
    "  ------------------------------------------------\n",
    "[[[145 172  86 255]   　　第一列 \n",
    "  [186 175  96 255]　　　　第二列\n",
    "  [ 23  62 120 255]       第三列  　　　 第一行\n",
    "  [ 51 132 117 255]　　　　第四列\n",
    "  [253 250 250 255]]　　　第五列\n",
    "\n",
    " [[ 21  56 120 255]\n",
    "  [ 29  83 122 255]\n",
    "  [188 170  98 255]　　　　            　第二行\n",
    "  [168 178  91 255]\n",
    "  [192 163 101 255]]\n",
    "\n",
    " [[ 15  39 118 255]\n",
    "  [  9  16 117 255]\n",
    "  [242 224 223 255]　　　　           　第三行\n",
    "  [148 173  87 255]\n",
    "  [ 14  34 118 255]]\n",
    "\n",
    " [[125 167  82 255]\n",
    "  [148 173  87 255]\n",
    "  [242 224 223 255]　　　　           　第四行\n",
    "  [131 169  84 255]\n",
    "  [ 58 141  99 255]]]"
   ]
  },
  {
   "cell_type": "markdown",
   "metadata": {},
   "source": [
    "Notice that the first dimension is the height, and the second dimension is the width. That is because the data is ordered by lines, then each line is ordered by pixels, and finally each pixel contains 3 byte values for RGB. Each colour is represented by an unsigned byte (numpy type uint8)."
   ]
  },
  {
   "cell_type": "markdown",
   "metadata": {},
   "source": [
    "first row:"
   ]
  },
  {
   "cell_type": "code",
   "execution_count": null,
   "metadata": {},
   "outputs": [],
   "source": [
    "im_row1 = img[0]\n",
    "im_row1 = im_row1.reshape(1,5,4)\n",
    "print(im_row1)"
   ]
  },
  {
   "cell_type": "code",
   "execution_count": null,
   "metadata": {},
   "outputs": [],
   "source": [
    "plt.imshow(im_row1)"
   ]
  },
  {
   "cell_type": "markdown",
   "metadata": {},
   "source": [
    "The 1st pixel:"
   ]
  },
  {
   "cell_type": "code",
   "execution_count": null,
   "metadata": {},
   "outputs": [],
   "source": [
    "im_pixel_1st = img[0,0,:]\n",
    "im_pixel_1st =im_pixel_1st.reshape(1,1,4)"
   ]
  },
  {
   "cell_type": "code",
   "execution_count": null,
   "metadata": {},
   "outputs": [],
   "source": [
    "# pixel_1st = [[[50, 130, 121, 255]]]\n",
    "plt.imshow(im_pixel_1st)"
   ]
  },
  {
   "cell_type": "markdown",
   "metadata": {},
   "source": [
    "由以下三种颜色合成："
   ]
  },
  {
   "cell_type": "code",
   "execution_count": null,
   "metadata": {},
   "outputs": [],
   "source": [
    "pixel_1st = [[[im_pixel_1st[0,0,0], 0, 0, 255],\n",
    "      [0, im_pixel_1st[0,0,1],  0, 255],\n",
    "      [0, 0, im_pixel_1st[0,0,2], 255],\n",
    "      ]]\n",
    "plt.imshow(pixel_1st)"
   ]
  },
  {
   "cell_type": "code",
   "execution_count": null,
   "metadata": {},
   "outputs": [],
   "source": [
    "print(\"The first pixel is made of RGB (R=\",im_pixel_1st[0,0,0],\", G=\",im_pixel_1st[0,0,1],\",\", \"B=\",im_pixel_1st[0,0,2],\").\\n\")"
   ]
  },
  {
   "cell_type": "markdown",
   "metadata": {},
   "source": [
    "转换为16进制 (convert rgb to hex):"
   ]
  },
  {
   "cell_type": "code",
   "execution_count": null,
   "metadata": {},
   "outputs": [],
   "source": [
    "'#{:02x}{:02x}{:02x}'.format(im_pixel_1st[0,0,0], im_pixel_1st[0,0,1], im_pixel_1st[0,0,2] )\n",
    "'#{:02x}{:02x}{:02x}'.format( 120, 0 , 255 )"
   ]
  },
  {
   "cell_type": "markdown",
   "metadata": {},
   "source": [
    "## Remove Alpha Channel"
   ]
  },
  {
   "cell_type": "code",
   "execution_count": null,
   "metadata": {},
   "outputs": [],
   "source": [
    "im = np.array(Image.open('images/arr2img.png'))\n",
    "# remove alpha\n",
    "im_noalpha = np.delete(im, np.s_[3], axis=2) \n",
    "print(im_noalpha.shape)\n",
    "# (4, 5 ,3)\n",
    "# (height, width, 3)\n",
    "print(im_noalpha)"
   ]
  },
  {
   "cell_type": "code",
   "execution_count": null,
   "metadata": {},
   "outputs": [],
   "source": [
    "plt.imshow(im_noalpha)"
   ]
  },
  {
   "cell_type": "markdown",
   "metadata": {},
   "source": [
    "# 其他模式"
   ]
  },
  {
   "cell_type": "markdown",
   "metadata": {},
   "source": [
    "## CMYK\n",
    "\n",
    "- C  cyan  蓝\n",
    "- M  magenta 粉\n",
    "- Y  yellow  黄\n",
    "- K  black  黑\n",
    "\n",
    "加法,颜料颜色，打印机\n",
    "\n",
    "RGB(A): 减法， 光，电子显示\n",
    "\n",
    "![](images/rgb-vs-cmyk.png)"
   ]
  },
  {
   "cell_type": "markdown",
   "metadata": {},
   "source": [
    "# HSV\n",
    "\n",
    "HSV是把H（色相），S（饱和度），V（亮度）当做色值来定位颜色的空间。\n",
    "\n",
    "色相的取回值范围是0-360度，用来表答示颜色的类别。其中红色是0度，绿色是120度，蓝色是240度。\n",
    "\n",
    "饱和度的取值范围是0%~100%。用来表示颜色的鲜艳程度，灰色的饱和度是0%，纯粹的颜色（比如大红（255,0,0）青色（0,255,255）等等的饱和度是100%。\n",
    "\n",
    "亮度的取值范围是0%-100%，用来表示颜色的明暗程度，亮度为0%时为黑色，亮度为100%时为白色，介于0%-100%之间时，则用来表示各个颜色的明暗程度。\n",
    "\n",
    "![](images/HSV_color_solid_cylinder_saturation_gray.png)"
   ]
  },
  {
   "cell_type": "code",
   "execution_count": null,
   "metadata": {},
   "outputs": [],
   "source": [
    "import cv2\n",
    "hsv = cv2.cvtColor(img, cv2.COLOR_BGR2HSV)\n",
    "hsv"
   ]
  },
  {
   "cell_type": "code",
   "execution_count": null,
   "metadata": {},
   "outputs": [],
   "source": [
    "# %run hsv_picke2.py -f hsv -i pig.jpg"
   ]
  },
  {
   "cell_type": "code",
   "execution_count": null,
   "metadata": {},
   "outputs": [],
   "source": [
    "# %load hsv_picke2.py"
   ]
  }
 ],
 "metadata": {
  "kernelspec": {
   "display_name": "Python 3",
   "language": "python",
   "name": "python3"
  },
  "language_info": {
   "codemirror_mode": {
    "name": "ipython",
    "version": 3
   },
   "file_extension": ".py",
   "mimetype": "text/x-python",
   "name": "python",
   "nbconvert_exporter": "python",
   "pygments_lexer": "ipython3",
   "version": "3.8.3"
  }
 },
 "nbformat": 4,
 "nbformat_minor": 4
}
