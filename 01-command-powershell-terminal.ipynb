{
 "cells": [
  {
   "cell_type": "markdown",
   "metadata": {},
   "source": [
    "Powershell终端的指令运行\n",
    "============================\n",
    "\n",
    "<img src=\"images/powershell.JPG\" width=\"700px\"/>\n",
    "\n",
    "# Navigation - 导航\n",
    "    \n",
    "## Powershell启动后的默认路径为当前用户路径"
   ]
  },
  {
   "cell_type": "code",
   "execution_count": null,
   "metadata": {},
   "outputs": [],
   "source": [
    "    (base) PS C:\\Users\\MIS\\"
   ]
  },
  {
   "cell_type": "markdown",
   "metadata": {},
   "source": [
    "## pwd - [present working directory] 获得当前的路径"
   ]
  },
  {
   "cell_type": "code",
   "execution_count": null,
   "metadata": {},
   "outputs": [],
   "source": [
    "    (base) PS C:\\Users\\MIS\\Documents> pwd"
   ]
  },
  {
   "cell_type": "code",
   "execution_count": null,
   "metadata": {},
   "outputs": [],
   "source": [
    "    Path\n",
    "    ----\n",
    "    C:\\Users\\MIS\\Documents"
   ]
  },
  {
   "cell_type": "markdown",
   "metadata": {},
   "source": [
    "## cd - [change diretory] 切换路径"
   ]
  },
  {
   "cell_type": "code",
   "execution_count": null,
   "metadata": {},
   "outputs": [],
   "source": [
    "    (base) PS C:\\Users\\MIS\\Documents> cd .\\python\\"
   ]
  },
  {
   "cell_type": "markdown",
   "metadata": {},
   "source": [
    "**注：**\n",
    "\n",
    "1. **./** 代表当前文件夹路径；**../** 代表直接上一文件夹路径； **~/** 当前用户的文件夹路径； **/** root用户的路径。\n",
    "2. Windows路径用 **\\\\**, Linux 和 Mac 用 **/** 代表路径。\n",
    "3. 选择路径内容是输入前几个字母后 **Tab** 键自动完成，可以重复按，直到想要的路径跳出。"
   ]
  },
  {
   "cell_type": "code",
   "execution_count": null,
   "metadata": {},
   "outputs": [],
   "source": [
    "    # move up one level\n",
    "    (base) PS C:\\Users\\MIS\\Documents\\python> cd ../\n",
    "    # go to user directory\n",
    "    (base) PS C:\\Users\\MIS\\Documents> cd ~\n",
    "    # go to root directory\n",
    "    (base) PS C:\\Users\\MIS> cd /\n",
    "    (base) PS C:\\> ls"
   ]
  },
  {
   "cell_type": "code",
   "execution_count": null,
   "metadata": {},
   "outputs": [],
   "source": [
    "    Directory: C:\\\n",
    "\n",
    "\n",
    "    Mode                 LastWriteTime         Length Name\n",
    "    ----                 -------------         ------ ----\n",
    "    da----          9/4/2017  11:07 PM                .Trash-1000\n",
    "    d-----        10/26/2016  10:17 AM                Drivers\n",
    "    d-r---         11/5/2020   8:45 PM                Program Files\n",
    "    d-r---         11/5/2020   9:55 AM                Program Files (x86)\n",
    "    ...\n",
    "\n",
    "    (base) PS C:\\>"
   ]
  },
  {
   "cell_type": "markdown",
   "metadata": {},
   "source": [
    "# 文件和文件夹管理"
   ]
  },
  {
   "cell_type": "markdown",
   "metadata": {},
   "source": [
    "## ls - [list] 列出当前文件夹内容"
   ]
  },
  {
   "cell_type": "code",
   "execution_count": null,
   "metadata": {},
   "outputs": [],
   "source": [
    "    (base) PS C:\\Users\\MIS\\Documents\\python> ls"
   ]
  },
  {
   "cell_type": "code",
   "execution_count": null,
   "metadata": {},
   "outputs": [],
   "source": [
    "    Directory: C:\\Users\\MIS\\Documents\\python\n",
    "\n",
    "\n",
    "    Mode                 LastWriteTime         Length Name\n",
    "    ----                 -------------         ------ ----\n",
    "    -a----         11/5/2020   7:38 PM             69 hello.py"
   ]
  },
  {
   "cell_type": "markdown",
   "metadata": {},
   "source": [
    "## mkdir [make directory] 新建文件夹"
   ]
  },
  {
   "cell_type": "code",
   "execution_count": null,
   "metadata": {},
   "outputs": [],
   "source": [
    "    (base) PS C:\\Users\\MIS\\Documents\\python> mkdir .\\sandbox"
   ]
  },
  {
   "cell_type": "code",
   "execution_count": null,
   "metadata": {},
   "outputs": [],
   "source": [
    "    Directory: C:\\Users\\MIS\\Documents\\python\n",
    "\n",
    "\n",
    "    Mode                 LastWriteTime         Length Name\n",
    "    ----                 -------------         ------ ----\n",
    "    d-----         11/7/2020   8:20 AM                sandbox\n",
    "\n",
    "\n",
    "    Directory: C:\\Users\\MIS\\Documents\\python\n",
    "\n",
    "\n",
    "    Mode                 LastWriteTime         Length Name\n",
    "    ----                 -------------         ------ ----\n",
    "    d-----         11/7/2020   8:20 AM                sandbox\n",
    "    -a----         11/5/2020   7:38 PM             69 hello.py"
   ]
  },
  {
   "cell_type": "markdown",
   "metadata": {},
   "source": [
    "## cp [copy] 拷贝文件或文件夹"
   ]
  },
  {
   "cell_type": "code",
   "execution_count": null,
   "metadata": {},
   "outputs": [],
   "source": [
    "    (base) PS C:\\Users\\MIS\\Documents\\python> cp .\\hello.py .\\sandbox\\"
   ]
  },
  {
   "cell_type": "code",
   "execution_count": null,
   "metadata": {},
   "outputs": [],
   "source": [
    "    Directory: C:\\Users\\MIS\\Documents\\python\\sandbox\n",
    "\n",
    "\n",
    "    ----                 -------------         ------ ----\n",
    "    -a----         11/5/2020   7:38 PM             69 hello.py"
   ]
  },
  {
   "cell_type": "markdown",
   "metadata": {},
   "source": [
    "　　拷贝为不同文件名"
   ]
  },
  {
   "cell_type": "code",
   "execution_count": null,
   "metadata": {},
   "outputs": [],
   "source": [
    "    (base) PS C:\\Users\\MIS\\Documents\\python> cp .\\hello.py .\\hello-copy.py"
   ]
  },
  {
   "cell_type": "code",
   "execution_count": null,
   "metadata": {},
   "outputs": [],
   "source": [
    "    (base) PS C:\\Users\\MIS\\Documents\\python> ls"
   ]
  },
  {
   "cell_type": "code",
   "execution_count": null,
   "metadata": {},
   "outputs": [],
   "source": [
    "    Directory: C:\\Users\\MIS\\Documents\\python\n",
    "\n",
    "\n",
    "    Mode                 LastWriteTime         Length Name\n",
    "    ----                 -------------         ------ ----\n",
    "    d-----         11/7/2020   8:23 AM                sandbox\n",
    "    -a----         11/5/2020   7:38 PM             69 hello-copy.py\n",
    "    -a----         11/5/2020   7:38 PM             69 hello.py"
   ]
  },
  {
   "cell_type": "markdown",
   "metadata": {},
   "source": [
    "## mv [move] 移动文件或文件夹"
   ]
  },
  {
   "cell_type": "code",
   "execution_count": null,
   "metadata": {},
   "outputs": [],
   "source": [
    "    PS C:\\Users\\MIS\\Documents\\python> mv .\\hello-copy.py .\\sandbox"
   ]
  },
  {
   "cell_type": "code",
   "execution_count": null,
   "metadata": {},
   "outputs": [],
   "source": [
    "    PS C:\\Users\\MIS\\Documents\\python> ls\n",
    "\n",
    "\n",
    "    Directory: C:\\Users\\MIS\\Documents\\python\n",
    "\n",
    "\n",
    "    Mode                 LastWriteTime         Length Name\n",
    "    ----                 -------------         ------ ----\n",
    "    d-----         11/7/2020   9:53 AM                sandbox\n",
    "    -a----         11/5/2020   7:38 PM             69 hello.py"
   ]
  },
  {
   "cell_type": "markdown",
   "metadata": {},
   "source": [
    "## rm [remove] 删除文件或文件夹；rmdir [remove directory] 删除文件夹"
   ]
  },
  {
   "cell_type": "markdown",
   "metadata": {},
   "source": [
    "    先再建一个新文件夹sandbox2"
   ]
  },
  {
   "cell_type": "code",
   "execution_count": null,
   "metadata": {},
   "outputs": [],
   "source": [
    "    (base) PS C:\\Users\\MIS\\Documents\\python> mkdir sandbox2"
   ]
  },
  {
   "cell_type": "markdown",
   "metadata": {},
   "source": [
    "    用ls查看核实"
   ]
  },
  {
   "cell_type": "code",
   "execution_count": null,
   "metadata": {},
   "outputs": [],
   "source": [
    "    (base) PS C:\\Users\\MIS\\Documents\\python> ls"
   ]
  },
  {
   "cell_type": "code",
   "execution_count": null,
   "metadata": {},
   "outputs": [],
   "source": [
    "    Directory: C:\\Users\\MIS\\Documents\\python\n",
    "\n",
    "\n",
    "    Mode                 LastWriteTime         Length Name\n",
    "    ----                 -------------         ------ ----\n",
    "    d-----         11/7/2020   8:21 AM                sandbox\n",
    "    d-----         11/7/2020   8:22 AM                sandbox2\n",
    "    (base) PS C:\\Users\\MIS\\Documents\\python> ls .\\sandbox\\\n",
    "    (base) PS C:\\Users\\MIS\\Documents\\python> ls .\\sandbox2\\\n",
    "\n",
    "\n",
    "    Directory: C:\\Users\\MIS\\Documents\\python\\sandbox2\n",
    "\n",
    "\n",
    "    Mode                 LastWriteTime         Length Name\n",
    "    ----                 -------------         ------ ----\n",
    "    -a----         11/5/2020   7:38 PM             69 hello.py"
   ]
  },
  {
   "cell_type": "markdown",
   "metadata": {},
   "source": [
    "    用rm删除："
   ]
  },
  {
   "cell_type": "code",
   "execution_count": null,
   "metadata": {},
   "outputs": [],
   "source": [
    "    (base) PS C:\\Users\\MIS\\Documents\\python> rm .\\sandbox2\\"
   ]
  },
  {
   "cell_type": "markdown",
   "metadata": {},
   "source": [
    "    Confirm with Y, which is default. -肯定删除？"
   ]
  },
  {
   "cell_type": "code",
   "execution_count": null,
   "metadata": {},
   "outputs": [],
   "source": [
    "    Confirm\n",
    "    The item at C:\\Users\\MIS\\Documents\\python\\sandbox2\\ has children and the Recurse parameter was not specified. If you\n",
    "    continue, all children will be removed with the item. Are you sure you want to continue?\n",
    "    [Y] Yes  [A] Yes to All  [N] No  [L] No to All  [S] Suspend  [?] Help (default is \"Y\"):"
   ]
  },
  {
   "cell_type": "markdown",
   "metadata": {},
   "source": [
    "    ls 查看结果"
   ]
  },
  {
   "cell_type": "code",
   "execution_count": null,
   "metadata": {},
   "outputs": [],
   "source": [
    "    (base) PS C:\\Users\\MIS\\Documents\\python> ls"
   ]
  },
  {
   "cell_type": "code",
   "execution_count": null,
   "metadata": {},
   "outputs": [],
   "source": [
    "    Directory: C:\\Users\\MIS\\Documents\\python\n",
    "\n",
    "\n",
    "    Mode                 LastWriteTime         Length Name\n",
    "    ----                 -------------         ------ ----\n",
    "    d-----         11/7/2020   8:23 AM                sandbox\n",
    "    -a----         11/5/2020   7:38 PM             69 hello.py"
   ]
  }
 ],
 "metadata": {
  "kernelspec": {
   "display_name": "Python 3",
   "language": "python",
   "name": "python3"
  },
  "language_info": {
   "codemirror_mode": {
    "name": "ipython",
    "version": 3
   },
   "file_extension": ".py",
   "mimetype": "text/x-python",
   "name": "python",
   "nbconvert_exporter": "python",
   "pygments_lexer": "ipython3",
   "version": "3.8.6"
  }
 },
 "nbformat": 4,
 "nbformat_minor": 4
}
