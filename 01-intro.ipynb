{
 "cells": [
  {
   "cell_type": "markdown",
   "metadata": {},
   "source": [
    "Python 入门基础\n",
    "================\n",
    "\n",
    "<img src=\"images/python_logo.jpg\" width=\"120px\" />\n",
    "\n",
    "\n",
    "# Backgrounnd (背景和Python之禅)\n",
    "\n",
    "## Factoids\n",
    "\n",
    "1. NOT 蟒蛇\n",
    "\n",
    "    **Not Python (蟒蛇)**，而是英国喜剧片的名字　- Monty Python’s Flying Circus。\n",
    "\n",
    "1. Interpreted Language (REPL -Read–eval–print loop)\n",
    "\n",
    "    解释型语言（Interpreted language）vs 編譯語言（Compiled language）\n",
    "    \n",
    "1. Python 3 is not back compatible with Python 2. **Use Python 3**\n",
    "1. Object-Oriented\n",
    "1. the ZEN of python (python之禅)\n",
    "\n",
    "## Python之禅 by Tim Peters\n",
    "\n",
    "    Perl之禅: 不止一种方法去做一件事（There's more than one way to do it，TMTOWTDI或TIMTOWTDI，发音为“Tim Toady”)."
   ]
  },
  {
   "cell_type": "code",
   "execution_count": null,
   "metadata": {},
   "outputs": [],
   "source": [
    "import this"
   ]
  },
  {
   "cell_type": "markdown",
   "metadata": {},
   "source": [
    "Python之禅 by Tim Peters\n",
    " \n",
    "    优美胜于丑陋（Python 以编写优美的代码为目标）\n",
    "    明了胜于晦涩（优美的代码应当是明了的，命名规范，风格相似）\n",
    "    简洁胜于复杂（优美的代码应当是简洁的，不要有复杂的内部实现）\n",
    "    复杂胜于凌乱（如果复杂不可避免，那代码间也不能有难懂的关系，要保持接口简洁）\n",
    "    扁平胜于嵌套（优美的代码应当是扁平的，不能有太多的嵌套）\n",
    "    间隔胜于紧凑（优美的代码有适当的间隔，不要奢望一行代码解决问题）\n",
    "    可读性很重要（优美的代码是可读的）\n",
    "    即便假借特例的实用性之名，也不可违背这些规则（这些规则至高无上）\n",
    "    不要包容所有错误，除非你确定需要这样做（精准地捕获异常，不写 except:pass 风格的代码）\n",
    "    当存在多种可能，不要尝试去猜测\n",
    "    而是尽量找一种，最好是唯一一种明显的解决方案（如果不确定，就用穷举法）\n",
    "    虽然这并不容易，因为你不是 Python 之父（这里的 Dutch 是指 Guido ）\n",
    "    做也许好过不做，但不假思索就动手还不如不做（动手之前要细思量）\n",
    "    如果你无法向人描述你的方案，那肯定不是一个好方案；反之亦然（方案测评标准)\n",
    "    命名空间是一种绝妙的理念，我们应当多加利用（倡导与号召）\n",
    "\n",
    "简而言之，格式上每个区块在冒号【:】后语句都要缩进，也就是空４空格或Tab（只选其一，不能混用）。"
   ]
  },
  {
   "cell_type": "markdown",
   "metadata": {},
   "source": [
    "# My way of learning computing\n",
    "\n",
    "1. Big picture first\n",
    "2. Project oriented - research and learn as needed.\n",
    "3. Kids Mindset\n",
    "    - curiosity driven\n",
    "    - never afraid of mistakes \n",
    "    - no need to fully understand everything at once\n",
    "    - ...\n",
    "4. Practice makes perfect - just like any language\n",
    "    read or write some code everyday!\n",
    "5. Stand on the shoulder of the giants\n",
    "6. No need to reinvent the wheels"
   ]
  },
  {
   "cell_type": "markdown",
   "metadata": {},
   "source": [
    "# Python 安装及相关知识"
   ]
  },
  {
   "cell_type": "markdown",
   "metadata": {},
   "source": [
    "# 安装\n",
    "\n",
    "## 需要的部件、工具 (Components)\n",
    "1. Python (语言环境）\n",
    "2. IDE （集成开发环境）\n",
    "    就是一个高级文本文件编辑器。\n",
    "    Many Options：　\n",
    "    Spyder, PyCharm, VS Code, IntelliJ IDEA etc.\n",
    "3. Package management system (软件包管理器)\n",
    "    Python自带 (builtin): pip\n",
    "    Third-Party:  conda,  Anaconda\n",
    "4. Packages (软件包)\n",
    "    Almost anything needed!\n",
    "5. Jupyter lab or Notebook （笔记本） \n",
    "\n",
    "## 最佳（简）方法：\n",
    "\n",
    "用[anaconda](https://www.anaconda.com/)生态系统。\n",
    "\n",
    "Anaconda安装以上5项 (第3项：Spyder; 第4项常见软件包)！\n",
    "\n",
    "Windows安装详细步骤和简介见[Anaconda安装](http://tech.memoryimprintstudio.com/anaconda%e5%92%8cpython%e5%9c%a8windows-10%e7%b3%bb%e7%bb%9f%e4%b8%8b%e7%9a%84%e5%ae%89%e8%a3%85/)。"
   ]
  },
  {
   "cell_type": "markdown",
   "metadata": {},
   "source": [
    "# Other Related Knowledge　（其他相关知识）\n",
    "## Tools\n",
    "### Spyder\n",
    "    IDE (Intergrated Development Environment) -集成开发环境\n",
    "### Jupyter　Notebook Or Lab\n",
    "    cheatsheet\n",
    "#### Shortcut Key (快捷键)\n",
    " \n",
    "|快捷键     |　 功能　　　        　　|\n",
    "|---------|--------------------------------|\n",
    "|UP /DOWN Arrow | 上/下单元  | \n",
    "| a | 在现在的单元后加单元(cell)  -after ;搞反了！|\n",
    "| b | 在现在的单元前加单元(cell)  -before    |\n",
    "|d d |去除当前单元   |\n",
    "| ctrl-Shift-- |从当前分为新的单元 |\n",
    "| ctrl-Enter | 运行当前单元代码，停在本单元  |\n",
    "| shift-Enter | 运行当前单元代码后，停在下一单元  |\n",
    "| Shift-M | 合并下一单元 |\n",
    "|Tab | 自动补全代码 |\n",
    "|Shift-Tab | 呼出当前光标下词汇的 Docstring |\n",
    "| ESC |从编辑模式回到命令模式 |\n",
    "| y | to code |\n",
    "|m |  to markdown |\n",
    "|r | to raw |\n",
    "|ctrl-/  | 将选择的code改为备注，　反之亦然|\n",
    "|ctrl-[  | 将选择内容向后推一个Tab |\n",
    "|ctrl-]  | 将选择内容向前推一个Tab |\n",
    "| ctrl-d | Sublime Keymap: 选中下一个相同字符串 |\n",
    "| Shift-ctrl-L | Sublime Keymap: 在选中的行内启动多行同时编辑 |\n",
    "| ctrl - Mouse Click | 生成下一个可同时编辑的光标点 |\n",
    "\n",
    "   *备注：- 表示同时按键；d d 表示连续按两次d*\n",
    "    \n",
    "## HTML and Markdown\n",
    "\n",
    "**Markup vs Markdown**\n",
    "\n",
    "cheat sheet  - add later\n"
   ]
  },
  {
   "cell_type": "markdown",
   "metadata": {},
   "source": [
    "## General Computer Language Basics\n",
    "   \n",
    "###  Difference between bit and byte:\n",
    "\n",
    "    bit (比特）是　Binary Digit　的缩写；\n",
    "    ８ bit (比特)    = 1 byte (字节)"
   ]
  },
  {
   "cell_type": "markdown",
   "metadata": {},
   "source": [
    "![bytes.png](images/bytes.png)"
   ]
  },
  {
   "cell_type": "markdown",
   "metadata": {},
   "source": [
    "|Bit \t|      Byte          |\n",
    "|-------|--------------------|\n",
    "|Bit is single binary value either 0 or 1.    |  A byte is eight bits. |\n",
    "| Example: 0 or 1\t            |     Example: 01011010 |\n",
    "|It is denoted by b\t|   It is denoted by B.  |\n",
    "|It has only two possible values either 0 or 1.\t|      It has 2^8 (256) possible values ranging from 00000000 (0) to 11111111 (255). |\n",
    "|Network engineers describe network speeds in bits per second abbreviated as bps.  Example: 256 Kbps, 20 Mbps, 100 Mbps etc...       |\tUsed to measure data storage in Bytes and transmission in Bytes per second abbreviated as Bps.  Example: CD holds 700 MB, hard drive holds 500 GB etc.. |\n",
    "|1024 bits = 1 Kilo bits (Kb)  | 1 Byte = 8 bits |\n",
    "|1024 Kb = 1 Mega bits (Mb)    | 1024 Bytes = 1 Kilo Bytes (KB)  |\n",
    "|1024 Mb = 1 Giga bits (Gb)    | 1024 KB = 1 Mega Bytes (MB)    | \n",
    "|1024 Gb = 1 Terra bits (Tb)   | 1024 MB = 1 Giga Bytes (GB)  |\n",
    "|                              | 1024 GB = 1 Terra Bytes (TB)     |"
   ]
  },
  {
   "cell_type": "markdown",
   "metadata": {},
   "source": [
    "**人的大脑能保存多大量的信息？** \n",
    "\n",
    "    2.5 petabytes (or 相当于－百万 gigabytes)，i.e.,数不清吧？　换个说法，可以录制连续播放300年的电视节目。　\n",
    "[信息来源](https://www.scientificamerican.com/article/what-is-the-memory-capacity/)"
   ]
  },
  {
   "cell_type": "markdown",
   "metadata": {},
   "source": [
    "### 二进制和十进制的转换"
   ]
  },
  {
   "cell_type": "code",
   "execution_count": 2,
   "metadata": {},
   "outputs": [
    {
     "data": {
      "text/plain": [
       "256"
      ]
     },
     "execution_count": 2,
     "metadata": {},
     "output_type": "execute_result"
    }
   ],
   "source": [
    "# 256\n",
    "2*(10**2)+5*(10**1)+6*(10**0)\n",
    "# 256.1\n",
    "# 2*(10**2)+5*(10**1)+6*(10**0)+1*(10**(-1))"
   ]
  },
  {
   "cell_type": "markdown",
   "metadata": {},
   "source": [
    "<img src=\"images/python-math-image-exercise-31.jpg\" width=\"600px\" align=\"left\" />"
   ]
  },
  {
   "cell_type": "code",
   "execution_count": 3,
   "metadata": {},
   "outputs": [
    {
     "data": {
      "text/plain": [
       "'0b1010'"
      ]
     },
     "execution_count": 3,
     "metadata": {},
     "output_type": "execute_result"
    }
   ],
   "source": [
    "# convert decimal to binary\n",
    "bin(10)"
   ]
  },
  {
   "cell_type": "code",
   "execution_count": 12,
   "metadata": {},
   "outputs": [
    {
     "name": "stdin",
     "output_type": "stream",
     "text": [
      "Input a binary number:  11111111\n"
     ]
    },
    {
     "name": "stdout",
     "output_type": "stream",
     "text": [
      "The decimal value of the number is 255\n"
     ]
    }
   ],
   "source": [
    "# convert binary to decimal  1111111\n",
    "b_num = list(input(\"Input a binary number: \"))\n",
    "value = 0\n",
    "\n",
    "for i in range(len(b_num)):\n",
    "\tdigit = b_num.pop()\n",
    "\tif digit == '1':\n",
    "\t\tvalue = value + pow(2, i)\n",
    "print(\"The decimal value of the number is\", value)"
   ]
  },
  {
   "cell_type": "markdown",
   "metadata": {},
   "source": [
    "### ASCII (American Standard Code for Information Interchange)\n",
    "\n",
    "美国人最早发明计算机时用ASCII编码，只有127个字符被编码到计算机里，包括大小写英文字母、数字和一些符号。Unicode字符集把所有语言都统一到一套编码里，其最常用的是UCS-16编码，用两个字节表示一个字符；另外还有“可变长编码”的UTF-8编码，常用的英文字母被编码成1个字节，汉字通常是3个字节。\n",
    "\n",
    "<div>\n",
    "<img src=\"images/asciifull.jpg\" width=\"800px\" />\n",
    "</div>\n",
    "\n",
    "在最新的Python 3版本中，字符串是以Unicode编码的，也就是说，Python的字符串支持多语言,包括了ASCII编码。\n",
    "\n",
    "对于单个字符的编码，Python提供了ord()函数获取字符的整数表示："
   ]
  },
  {
   "cell_type": "code",
   "execution_count": 5,
   "metadata": {},
   "outputs": [
    {
     "data": {
      "text/plain": [
       "'0b1010'"
      ]
     },
     "execution_count": 5,
     "metadata": {},
     "output_type": "execute_result"
    }
   ],
   "source": [
    "bin(10)"
   ]
  },
  {
   "cell_type": "code",
   "execution_count": 6,
   "metadata": {},
   "outputs": [
    {
     "data": {
      "text/plain": [
       "[104, 101, 108, 108, 111, 32, 119, 111, 114, 108, 100, 20013]"
      ]
     },
     "execution_count": 6,
     "metadata": {},
     "output_type": "execute_result"
    }
   ],
   "source": [
    "# 字母串的十进制ASCII和Unicode值\n",
    "s = \"hello world中\"\n",
    "[ord(c) for c in s]\n",
    "#  h   e   l    l    o         w   o    r    l   d     中"
   ]
  },
  {
   "cell_type": "markdown",
   "metadata": {},
   "source": [
    "chr()函数把编码转换为对应的字符："
   ]
  },
  {
   "cell_type": "code",
   "execution_count": 7,
   "metadata": {},
   "outputs": [
    {
     "data": {
      "text/plain": [
       "'中'"
      ]
     },
     "execution_count": 7,
     "metadata": {},
     "output_type": "execute_result"
    }
   ],
   "source": [
    "chr(20013)"
   ]
  },
  {
   "cell_type": "markdown",
   "metadata": {},
   "source": [
    "### 易经阴阳八卦　－　题外话\n",
    "\n",
    "<div>\n",
    "<img src=\"images/14924796533086_2019-01-17_17-19-48.jpg\" width=\"600px\" />\n",
    "</div>"
   ]
  },
  {
   "cell_type": "markdown",
   "metadata": {},
   "source": [
    "# 计算机语言\n",
    "## 组成部件\n",
    "\n",
    "1. Comment （注释语句）\n",
    "\n",
    "    \"\"\"\n",
    "    anything inside is comments\n",
    "    \"\"\"\n",
    "    \n",
    "    \\# or anything after #\n",
    "1. Variable and variable types (变量和数据类型）\n",
    "1. Data array　（数据组）\n",
    "1. Expression and operators　（语法，表达等）\n",
    "1. Function　（函数）\n",
    "1. Loop and Flow (if, for, while)　（循环路线）\n",
    "1. Class and Object with dot (.)　　（模块　－类，物体（目标））\n",
    "\n",
    "    attribute (属性)and method()　(方法)  "
   ]
  },
  {
   "cell_type": "markdown",
   "metadata": {},
   "source": [
    "## 计算机语言与人语言\n",
    "\n",
    "区别|计算机语言|人类语言\n",
    ":----|:-----|:------\n",
    "人工|人工(Artificial) | 自然语言(Natural)\n",
    "数码化 | 二元数码(digital, binary) | 模拟(Analog)\n",
    "对象 /界面　| 人《＝》机器  | 人《＝》人　\n",
    "语法 (Syntax)  |  简单　　　|　　复杂　　\n",
    "语意　(Semantics) | 明确　|　　模糊，而且会胡言乱语\n",
    "\n",
    "\n",
    "元素　(elements):  \n",
    "\n",
    "元素| 计算机语言 |人类语言\n",
    ":-----|:----------|:---------\n",
    "动词　| 方法 (method); 函数 (function) | 谓语\n",
    "名词　|各种数据类型　　　　　　　　　　|主语或宾语\n",
    "形容词 | 属性等　　　　　　　　　　　　|状语\n",
    "\n",
    "1. 计算机语言非常校准。\n",
    "2. 执行后必须产生结果，如打印，画图，或控制仪器等。\n",
    "3. 人是master,任何错误都是编程者的错误，计算机只会精准执行人的指令。\n",
    "4. 硅土红尘中的净土。\n",
    "\n",
    "> The programmer, like the poet, works only slightly removed from pure thought-stuff. He builds his castles in the air, from air, creating by exertion of the imagination. […] Yet the program construct, unlike the poet’s words, is real in the sense that it moves and works, producing visible outputs separately from the construct itself. It prints results, draws pictures, produces sounds, moves arms. \n",
    "　　　　　　　－　Fred Brooks. “The Mythical Man-Month: Essays on Software Engineering”, 1975, page 7."
   ]
  },
  {
   "cell_type": "markdown",
   "metadata": {},
   "source": [
    "# Python软件包\n",
    "    \n",
    "    PowerShell Terminal下：\n",
    "    安装:\n",
    "    conda install <module>\n",
    "    更新：\n",
    "    conda install -U <module>\n",
    "    卸载：\n",
    "    conda uninstall <module>\n",
    "    \n",
    "    或利用Anaconda安装，详见：\n",
    "    \n",
    "   [conda](https://docs.anaconda.com/anaconda/navigator/tutorials/manage-packages)\n",
    "    \n",
    "## Namespaces (命名空间)"
   ]
  },
  {
   "cell_type": "code",
   "execution_count": 8,
   "metadata": {},
   "outputs": [
    {
     "name": "stdout",
     "output_type": "stream",
     "text": [
      "3.141592653589793\n"
     ]
    },
    {
     "data": {
      "text/plain": [
       "2.23606797749979"
      ]
     },
     "execution_count": 8,
     "metadata": {},
     "output_type": "execute_result"
    }
   ],
   "source": [
    "## Namespace\n",
    "# dir('name')\n",
    "import math\n",
    "print(math.pi)\n",
    "math.sqrt(5)"
   ]
  },
  {
   "cell_type": "markdown",
   "metadata": {},
   "source": [
    "## Numpy"
   ]
  },
  {
   "cell_type": "code",
   "execution_count": 9,
   "metadata": {},
   "outputs": [
    {
     "name": "stdout",
     "output_type": "stream",
     "text": [
      "1D array  (3,) array: \n",
      " [1 2 3]\n",
      "2D array:  [[1 2 5]\n",
      " [2 4 6]]\n",
      "3D array  (2, 3) array: \n",
      " [[1 2 5]\n",
      " [2 4 6]]\n",
      "3D array Dimension  (2, 4, 3) array: \n",
      " [[[0. 0. 0.]\n",
      "  [0. 0. 0.]\n",
      "  [0. 0. 0.]\n",
      "  [0. 0. 0.]]\n",
      "\n",
      " [[0. 0. 0.]\n",
      "  [0. 0. 0.]\n",
      "  [0. 0. 0.]\n",
      "  [0. 0. 0.]]]\n",
      "nD array Dimension  (2, 4, 3, 5) array: \n",
      " [[[[1.14051590e-313 0.00000000e+000 4.48117541e-321             nan\n",
      "    6.01346953e-154]\n",
      "   [0.00000000e+000 1.66828001e+243 1.28898628e+248 9.13573471e+242\n",
      "    5.75656460e+252]\n",
      "   [5.30586801e+180 1.66041814e+243 2.46295687e+198 6.98867894e+228\n",
      "    2.66532333e-260]]\n",
      "\n",
      "  [[6.01347002e-154 1.14323760e+243 2.87088638e-014 1.38231267e-027\n",
      "    1.03103744e-259]\n",
      "   [1.66973864e+243 2.58634340e+161 1.33716994e-152 2.28305413e-109\n",
      "    7.01372723e-077]\n",
      "   [4.66345500e+223 2.87088647e-014 1.63456947e-027 6.01347002e-154\n",
      "    7.28193369e+223]]\n",
      "\n",
      "  [[4.65680264e+164 4.35872381e+251 7.19234481e+252 7.10572340e+159\n",
      "    8.04143236e-096]\n",
      "   [5.98129747e-154 6.05979516e+233 5.13426549e-027 6.01347002e-154\n",
      "    7.28193369e+223]\n",
      "   [4.65680264e+164 3.03428028e-086 1.80824964e-075 9.53087568e-090\n",
      "    6.01347002e-154]]\n",
      "\n",
      "  [[6.01347002e-154 1.52234385e+132 4.21302651e+198 7.59104788e+164\n",
      "    7.06474139e-096]\n",
      "   [1.94450626e-109 1.81644122e+223 4.82408859e+228 1.66041404e+243\n",
      "    4.82670329e+276]\n",
      "   [1.17076152e+214 1.81450375e-152 1.34451394e+161 5.98129785e-154\n",
      "    5.28595537e-085]]]\n",
      "\n",
      "\n",
      " [[[6.42625456e-095 7.59543285e+164 2.23209619e+271 2.46598535e-154\n",
      "    4.47593816e-091]\n",
      "   [6.01346953e-154 1.01820564e+277 1.27670240e+232 8.73968585e+183\n",
      "    7.72782062e+228]\n",
      "   [6.01334434e-154 2.90956561e-014 2.59345444e+161 3.42703236e-062\n",
      "    1.87725413e-009]]\n",
      "\n",
      "  [[2.93494581e+222 1.03063392e-113 1.94190741e-109 7.04142211e-009\n",
      "    3.94609756e+180]\n",
      "   [1.03181513e-259 2.42767381e-154 2.88525082e+214 1.06263900e+248\n",
      "    8.92887651e+271]\n",
      "   [2.66538996e-260 2.25563609e-153 1.33733641e+160 2.89270400e-057\n",
      "    2.16210014e+233]]\n",
      "\n",
      "  [[2.24625108e-057 1.87725413e-009 2.93494581e+222 3.03837572e+180\n",
      "    6.01346953e-154]\n",
      "   [4.55071999e+198 1.05832078e-153 7.08468655e+159 8.16124052e-153\n",
      "    1.13295205e-095]\n",
      "   [2.44011709e-154 6.01347002e-154 1.05206586e-153 3.05744561e-057\n",
      "    6.01334434e-154]]\n",
      "\n",
      "  [[7.70880492e+218 1.14199444e+243 8.78411353e+247 1.99501687e+161\n",
      "    6.01346953e-154]\n",
      "   [4.55071999e+198 5.28599622e-085 1.05016874e-153 7.08468655e+159\n",
      "    4.90675735e-042]\n",
      "   [1.15297798e-259 6.01347002e-154 1.05089607e-153 2.42766135e-154\n",
      "    1.03063364e-113]]]]\n"
     ]
    }
   ],
   "source": [
    "import numpy as np\n",
    "np.sqrt(2)\n",
    "# sqrt(2) # error\n",
    "arr1d = np.array([1,2,3])\n",
    "print(\"1D array \", arr1d.shape, \"array: \\n\", arr1d)\n",
    "# 2D array\n",
    "arr2d1 = np.array([[1,2,5], [2,4,6]])\n",
    "print(\"2D array: \", arr2d1)\n",
    "# 3D array\n",
    "arr2d2 = np.array([[1,2,5], [2,4,6],[10,20,40]])\n",
    "print(\"3D array \", arr2d1.shape, \"array: \\n\", arr2d1)\n",
    "# 3D array\n",
    "arr3d = np.zeros((2, 4, 3))\n",
    "print(\"3D array Dimension \", arr3d.shape, \"array: \\n\", arr3d)\n",
    "# nD array\n",
    "arrnd = np.empty((2, 4, 3, 5))\n",
    "print(\"nD array Dimension \", arrnd.shape, \"array: \\n\", arrnd)"
   ]
  },
  {
   "cell_type": "markdown",
   "metadata": {},
   "source": [
    "## Image array\n",
    "<img src=\"images/image2array.jpg\" width=\"600px\" />"
   ]
  },
  {
   "cell_type": "code",
   "execution_count": 10,
   "metadata": {},
   "outputs": [
    {
     "data": {
      "image/png": "[encoded data removed]",
      "text/plain": [
       "<Figure size 864x216 with 4 Axes>"
      ]
     },
     "metadata": {
      "needs_background": "light"
     },
     "output_type": "display_data"
    }
   ],
   "source": [
    "import numpy as np\n",
    "from scipy import ndimage\n",
    "import matplotlib.pyplot as plt\n",
    "\n",
    "np.random.seed(1)\n",
    "n = 20\n",
    "l = 256\n",
    "im = np.zeros((l, l))\n",
    "points = l*np.random.random((2, n**2))\n",
    "im[(points[0]).astype(np.int), (points[1]).astype(np.int)] = 1\n",
    "im = ndimage.gaussian_filter(im, sigma=l/(4.*n))\n",
    "\n",
    "mask = (im > im.mean()).astype(np.float)\n",
    "\n",
    "\n",
    "img = mask + 0.3*np.random.randn(*mask.shape)\n",
    "\n",
    "binary_img = img > 0.5\n",
    "\n",
    "# Remove small white regions\n",
    "open_img = ndimage.binary_opening(binary_img)\n",
    "# Remove small black hole\n",
    "close_img = ndimage.binary_closing(open_img)\n",
    "\n",
    "plt.figure(figsize=(12, 3))\n",
    "\n",
    "l = 128\n",
    "\n",
    "plt.subplot(141)\n",
    "plt.imshow(binary_img[:l, :l], cmap=plt.cm.gray)\n",
    "plt.axis('off')\n",
    "plt.subplot(142)\n",
    "plt.imshow(open_img[:l, :l], cmap=plt.cm.gray)\n",
    "plt.axis('off')\n",
    "plt.subplot(143)\n",
    "plt.imshow(close_img[:l, :l], cmap=plt.cm.gray)\n",
    "plt.axis('off')\n",
    "plt.subplot(144)\n",
    "plt.imshow(mask[:l, :l], cmap=plt.cm.gray)\n",
    "plt.contour(close_img[:l, :l], [0.5], linewidths=2, colors='r')\n",
    "plt.axis('off')\n",
    "\n",
    "plt.subplots_adjust(wspace=0.02, hspace=0.3, top=1, bottom=0.1, left=0, right=1)\n",
    "\n",
    "plt.show()"
   ]
  },
  {
   "cell_type": "markdown",
   "metadata": {},
   "source": [
    "## Pandas\n"
   ]
  },
  {
   "cell_type": "markdown",
   "metadata": {},
   "source": [
    "## OpenCV"
   ]
  },
  {
   "cell_type": "code",
   "execution_count": 11,
   "metadata": {},
   "outputs": [
    {
     "ename": "SyntaxError",
     "evalue": "invalid syntax (<ipython-input-11-954df8a337da>, line 4)",
     "output_type": "error",
     "traceback": [
      "\u001b[0;36m  File \u001b[0;32m\"<ipython-input-11-954df8a337da>\"\u001b[0;36m, line \u001b[0;32m4\u001b[0m\n\u001b[0;31m    if not cap.isOpened():and\u001b[0m\n\u001b[0m                          ^\u001b[0m\n\u001b[0;31mSyntaxError\u001b[0m\u001b[0;31m:\u001b[0m invalid syntax\n"
     ]
    }
   ],
   "source": [
    "import numpy as np\n",
    "import cv2 as cv\n",
    "cap = cv.VideoCapture(0)\n",
    "if not cap.isOpened():and\n",
    "    print(\"Cannot open camera\")\n",
    "    exit()\n",
    "while True:\n",
    "    # Capture frame-by-frame\n",
    "    ret, frame = cap.read()\n",
    "    # if frame is read correctly ret is True\n",
    "    if not ret:\n",
    "        print(\"Can't receive frame (stream end?). Exiting ...\")\n",
    "        break\n",
    "    # Our operations on the frame come here\n",
    "    gray = cv.cvtColor(frame, cv.COLOR_BGR2GRAY)\n",
    "    # Display the resulting frame\n",
    "    cv.imshow('frame', gray)\n",
    "    if cv.waitKey(1) == ord('q'):\n",
    "        break\n",
    "# When everything done, release the capture\n",
    "cap.release()\n",
    "cv.destroyAllWindows()"
   ]
  },
  {
   "cell_type": "code",
   "execution_count": null,
   "metadata": {},
   "outputs": [],
   "source": [
    "import librosa  # python package for music and audio analysis\n",
    "import librosa.display\n",
    "import matplotlib.pyplot as plt\n",
    "import numpy as np\n",
    "\n",
    "audio_file = \"./testing_audio.mp3\"\n",
    "y, sr = librosa.load(audio_file)\n",
    "plt.figure(figsize=(12, 8))\n",
    "\n",
    "\n",
    "# Visualize an STFT power spectrum\n",
    "D = librosa.amplitude_to_db(np.abs(librosa.stft(y)), ref=np.max)\n",
    "plt.subplot(4, 2, 1)\n",
    "librosa.display.specshow(D, y_axis=\"linear\")\n",
    "plt.colorbar(format=\"%+2.0f dB\")\n",
    "plt.title(\"Linear-frequency power spectrogram\")\n",
    "\n",
    "# Or on a logarithmic scale\n",
    "plt.subplot(4, 2, 2)\n",
    "librosa.display.specshow(D, y_axis=\"log\")\n",
    "plt.colorbar(format=\"%+2.0f dB\")\n",
    "plt.title(\"Log-frequency power spectrogram\")\n"
   ]
  },
  {
   "cell_type": "code",
   "execution_count": null,
   "metadata": {},
   "outputs": [],
   "source": []
  }
 ],
 "metadata": {
  "kernelspec": {
   "display_name": "Python 3",
   "language": "python",
   "name": "python3"
  },
  "language_info": {
   "codemirror_mode": {
    "name": "ipython",
    "version": 3
   },
   "file_extension": ".py",
   "mimetype": "text/x-python",
   "name": "python",
   "nbconvert_exporter": "python",
   "pygments_lexer": "ipython3",
   "version": "3.8.3"
  }
 },
 "nbformat": 4,
 "nbformat_minor": 4
}
